{
 "cells": [
  {
   "cell_type": "markdown",
   "metadata": {},
   "source": [
    "# Naive Bayes from Scratch"
   ]
  },
  {
   "cell_type": "code",
   "execution_count": 21,
   "metadata": {},
   "outputs": [],
   "source": [
    "import numpy as np"
   ]
  },
  {
   "cell_type": "code",
   "execution_count": 4,
   "metadata": {},
   "outputs": [],
   "source": [
    "from sklearn.datasets import make_blobs"
   ]
  },
  {
   "cell_type": "markdown",
   "metadata": {},
   "source": [
    "## Preparation of Fake data"
   ]
  },
  {
   "cell_type": "code",
   "execution_count": 9,
   "metadata": {},
   "outputs": [
    {
     "name": "stdout",
     "output_type": "stream",
     "text": [
      "[[-9.46494711 -5.88115845]\n",
      " [ 0.29681207  3.35328405]\n",
      " [ 2.482819    0.80309288]\n",
      " [ 0.29639341  2.06317757]\n",
      " [-1.13954147  0.91925638]]\n",
      "[1 0 0 0 0]\n"
     ]
    }
   ],
   "source": [
    "X, y = make_blobs(n_samples=100, n_features=2, centers=2, random_state=101)\n",
    "print(X[:5])\n",
    "print(y[:5])"
   ]
  },
  {
   "cell_type": "markdown",
   "metadata": {},
   "source": [
    "## Visualization of generated data"
   ]
  },
  {
   "cell_type": "code",
   "execution_count": 10,
   "metadata": {},
   "outputs": [],
   "source": [
    "import matplotlib.pyplot as plt"
   ]
  },
  {
   "cell_type": "code",
   "execution_count": 15,
   "metadata": {},
   "outputs": [
    {
     "data": {
      "text/plain": [
       "<matplotlib.collections.PathCollection at 0x7f177edfde90>"
      ]
     },
     "execution_count": 15,
     "metadata": {},
     "output_type": "execute_result"
    },
    {
     "data": {
      "image/png": "[encoded data removed]",
      "text/plain": [
       "<Figure size 432x288 with 1 Axes>"
      ]
     },
     "metadata": {
      "needs_background": "light"
     },
     "output_type": "display_data"
    }
   ],
   "source": [
    "plt.scatter(x=X[:,0], y=X[:,1], c=y)"
   ]
  },
  {
   "cell_type": "markdown",
   "metadata": {},
   "source": [
    "## Bayes Theorem\n",
    "\n",
    "**P(A|B) = P(B|A) * P(A) / P(B)**\n",
    "    \n",
    "where:\n",
    "* P(A|B) - Posterior Probability\n",
    "* P(B|A) - Likelihood\n",
    "* P(A)   - Prior Probability\n",
    "* P(B)   - Evidence\n",
    "\n",
    "We can frame classification as a conditional classification problem with Bayes Theorem as follows:\n",
    "\n",
    "**P(yi | x1, x2, ..., xn) = P(x1, x2, ..., xn | yi) * P(yi) / P(x1, x2, ..., xn)**  \n",
    "for each class y (in our case 2 classes)\n",
    "\n",
    "This becomes difficult to implement with incresing classes and feature number.\n",
    "\n",
    "***"
   ]
  },
  {
   "cell_type": "markdown",
   "metadata": {},
   "source": [
    "## Simplified or Naive Bayes\n",
    "\n",
    "The Bayes Theorem assumes that each input variable is dependent upon all other variables. This is a cause of complexity in the calculation. We can remove this assumption and consider each input variable as being independent from each other.\n",
    "\n",
    "We also remove the denominator from the calculation P(x1, x2, …, xn) as it is a constant used in calculating the conditional probability of each class for a given instance and has the effect of normalizing the result.\n",
    "\n",
    "So **P(yi | x1, x2, ..., xn) = P(x1, x2, ..., xn | yi) * P(yi)**  \n",
    "\n",
    "Next, the conditional probability of **all variables given the class label** i.e. **P(x1, x2, ..., xn | yi)** is changed into separate conditional probabilities of **each variable given the class label**. These independent conditional variables are then multiplied together.  \n",
    "\n",
    "So **P(yi | x1, x2, ..., xn) = P(x1|yi) * P(x2|yi) * ... P(xn|yi) * P(yi)**\n",
    "\n",
    "This calculation can be performed for each of the class labels, and the label with the largest probability can be selected as the classification for the given instance. This decision rule is referred to as the **maximum a posteriori**, or **MAP**, decision rule.\n",
    "\n",
    "\n",
    "***"
   ]
  },
  {
   "cell_type": "markdown",
   "metadata": {},
   "source": [
    "## Calculation of Prior and Conditional Probabilities\n",
    "\n",
    "For Priori, **P(yi) = examples with yi / total examples**\n",
    "\n",
    "The conditional probability for a **feature value given the class label** i.e. **P(xi|yj)** can also be estimated from the data. If there are K classes and n variables, then k * n different probability distributions must be created and maintained. In **our case** k = 2 and n = 2, so there will be **4** different distributions.\n",
    "\n",
    "Also depending on the data type of features (x1, x2 ...), different approach is used to calculate Conditional probabilities. Common methods are:\n",
    "\n",
    "* **Binomial distribution*** for Binary type data\n",
    "* **Multinomial distribution** for Categorucal type data\n",
    "* **Gaussian distribution** for Numeric data (Our case)\n",
    "\n",
    "Although using only these three are not mandatory.  \n",
    "***"
   ]
  },
  {
   "cell_type": "code",
   "execution_count": 24,
   "metadata": {},
   "outputs": [],
   "source": [
    "# fit a Gaussian probability distribution to a univariate data sample\n",
    "\n",
    "# Gaussian Distribution is also known as Normal Distribution which is the \"norm\" below\n",
    "from scipy.stats import norm\n",
    "\n",
    "def fit_distribution(data):\n",
    "    # estimate parameters\n",
    "    mu = np.mean(data)\n",
    "    sigma = np.std(data)\n",
    "    print(\"Mean =\", mu, \"Sigma =\", sigma)\n",
    "    # fit distribution\n",
    "    dist = norm(mu, sigma)\n",
    "    return dist"
   ]
  },
  {
   "cell_type": "code",
   "execution_count": 17,
   "metadata": {},
   "outputs": [
    {
     "name": "stdout",
     "output_type": "stream",
     "text": [
      "(50, 2) (50, 2)\n"
     ]
    }
   ],
   "source": [
    "# Sorting data into classes\n",
    "\n",
    "Xy0 = X[y==0]\n",
    "Xy1 = X[y==1]\n",
    "\n",
    "print(Xy0.shape, Xy1.shape)"
   ]
  },
  {
   "cell_type": "code",
   "execution_count": 19,
   "metadata": {},
   "outputs": [
    {
     "name": "stdout",
     "output_type": "stream",
     "text": [
      "0.5 0.5\n"
     ]
    }
   ],
   "source": [
    "# Calculating Priori Probabilities\n",
    "prior0 = len(Xy0)/len(X)\n",
    "prior1 = len(Xy1)/len(X)\n",
    "\n",
    "print(prior0, prior1)"
   ]
  },
  {
   "cell_type": "code",
   "execution_count": 26,
   "metadata": {},
   "outputs": [
    {
     "name": "stdout",
     "output_type": "stream",
     "text": [
      "Mean = 0.2663005730635291 Sigma = 0.98297639591927\n",
      "Mean = 1.7508852261061898 Sigma = 1.0154040940538716\n",
      "Mean = -9.517120068027232 Sigma = 0.8592402816570743\n",
      "Mean = -6.616782981587322 Sigma = 1.1553296290060329\n"
     ]
    }
   ],
   "source": [
    "# Creating Probability Distribution for y==0 which can provide Probability Density Function\n",
    "X1y0 = fit_distribution(Xy0[:,0])\n",
    "X2y0 = fit_distribution(Xy0[:,1])\n",
    "\n",
    "# Creating Probability Distribution for y==1 which can provide Probability Density Function\n",
    "X1y1 = fit_distribution(Xy1[:,0])\n",
    "X2y1 = fit_distribution(Xy1[:,1])"
   ]
  },
  {
   "cell_type": "code",
   "execution_count": 29,
   "metadata": {},
   "outputs": [],
   "source": [
    "# predict the class by seeing the value of X\n",
    "\n",
    "def probability(x):\n",
    "    # P(y0|x1, x2) = P(x1|y0) * P(x2|y0) * P(y0)\n",
    "    proba0 = X1y0.pdf(x[0]) * X2y0.pdf(x[1]) * prior0\n",
    "    \n",
    "    # P(y1|x1, x2) = P(x1|y1) * P(x2|y1) * P(y1)\n",
    "    proba1 = X1y1.pdf(x[0]) * X2y1.pdf(x[1]) * prior1\n",
    "    if proba0 > proba1:\n",
    "        return 0\n",
    "    else:\n",
    "        return 1"
   ]
  },
  {
   "cell_type": "code",
   "execution_count": 30,
   "metadata": {},
   "outputs": [
    {
     "name": "stdout",
     "output_type": "stream",
     "text": [
      "Actual = 1 Predicted = 1\n",
      "Actual = 0 Predicted = 0\n",
      "Actual = 0 Predicted = 0\n",
      "Actual = 0 Predicted = 0\n",
      "Actual = 0 Predicted = 0\n",
      "Actual = 1 Predicted = 1\n",
      "Actual = 0 Predicted = 0\n",
      "Actual = 0 Predicted = 0\n"
     ]
    }
   ],
   "source": [
    "# Test for some values\n",
    "# Although it is not correct since we fitted our model in whole dataset.\n",
    "\n",
    "l = [0, 10, 15, 16, 58, 69, 80, 99]\n",
    "\n",
    "for i in l:\n",
    "    prediction = probability(X[i])\n",
    "    print(\"Actual =\", y[i], \"Predicted =\", prediction)\n"
   ]
  },
  {
   "cell_type": "code",
   "execution_count": 32,
   "metadata": {},
   "outputs": [],
   "source": [
    "predictions = [probability(X[i]) for i in range(0, len(X))]"
   ]
  },
  {
   "cell_type": "code",
   "execution_count": 37,
   "metadata": {},
   "outputs": [
    {
     "name": "stdout",
     "output_type": "stream",
     "text": [
      "Confussion Matrix:\n",
      "\n",
      "[[50  0]\n",
      " [ 0 50]]\n",
      "\n",
      "Classification Report:\n",
      "\n",
      "              precision    recall  f1-score   support\n",
      "\n",
      "           0       1.00      1.00      1.00        50\n",
      "           1       1.00      1.00      1.00        50\n",
      "\n",
      "    accuracy                           1.00       100\n",
      "   macro avg       1.00      1.00      1.00       100\n",
      "weighted avg       1.00      1.00      1.00       100\n",
      "\n"
     ]
    }
   ],
   "source": [
    "from sklearn.metrics import confusion_matrix, classification_report\n",
    "print(\"Confussion Matrix:\\n\")\n",
    "print(confusion_matrix(y, predictions))\n",
    "print(\"\\nClassification Report:\\n\")\n",
    "print(classification_report(y, predictions))"
   ]
  }
 ],
 "metadata": {
  "kernelspec": {
   "display_name": "Python 3",
   "language": "python",
   "name": "python3"
  },
  "language_info": {
   "codemirror_mode": {
    "name": "ipython",
    "version": 3
   },
   "file_extension": ".py",
   "mimetype": "text/x-python",
   "name": "python",
   "nbconvert_exporter": "python",
   "pygments_lexer": "ipython3",
   "version": "3.7.5"
  }
 },
 "nbformat": 4,
 "nbformat_minor": 2
}
