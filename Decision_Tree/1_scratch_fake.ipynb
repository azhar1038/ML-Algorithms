{
 "cells": [
  {
   "cell_type": "markdown",
   "metadata": {},
   "source": [
    "# Classification And Regression Tree (CART) from Scratch"
   ]
  },
  {
   "cell_type": "markdown",
   "metadata": {},
   "source": [
    "The representation of the CART model is a binary tree. A node represents a single input variable (X) and a split point on that variable, assuming the variable is numeric. The leaf nodes of the tree contain an output variable (y) which is used to make a prediction.\n",
    "\n",
    "Creating a binary decision tree is actually a process of dividing up the input space. A greedy approach is used to divide the space called recursive binary splitting. This is a numerical procedure where all the values are lined up and different split points are tried and tested using a cost function.\n",
    "\n",
    "The split with the best cost (lowest cost because we minimize cost) is selected. All input variables and all possible split points are evaluated and chosen in a greedy manner based on the cost function.\n",
    "\n",
    "* **Regression**: The cost function that is minimized to choose split points is the sum squared error across all training samples that fall within the rectangle.  \n",
    "  \n",
    "\n",
    "* **Classification**: The Gini cost function is used which provides an indication of how pure the nodes are, where node purity refers to how mixed the training data assigned to each node is.\n",
    "\n",
    "Splitting continues until nodes contain a minimum number of training examples or a maximum tree depth is reached."
   ]
  },
  {
   "cell_type": "markdown",
   "metadata": {},
   "source": [
    "## Creating Fake Data\n",
    "This implementation is for Classification task"
   ]
  },
  {
   "cell_type": "code",
   "execution_count": 1,
   "metadata": {},
   "outputs": [],
   "source": [
    "from sklearn.datasets import make_classification"
   ]
  },
  {
   "cell_type": "code",
   "execution_count": 2,
   "metadata": {},
   "outputs": [],
   "source": [
    "X, y = make_classification(n_classes=2, n_features=2, n_redundant=0, n_samples=100, random_state=51)"
   ]
  },
  {
   "cell_type": "code",
   "execution_count": 3,
   "metadata": {},
   "outputs": [
    {
     "name": "stdout",
     "output_type": "stream",
     "text": [
      "First 5 X:\n",
      "[[-0.7082671   1.35615551]\n",
      " [-1.07676796 -1.73027582]\n",
      " [-0.76631557  1.18137216]\n",
      " [ 0.62418942 -1.20790138]\n",
      " [-1.34688535  1.21043201]]\n",
      "First 5 y\n",
      "[0 0 0 1 0]\n"
     ]
    }
   ],
   "source": [
    "print(\"First 5 X:\")\n",
    "print(X[:5,:])\n",
    "print(\"First 5 y\")\n",
    "print(y[:5])"
   ]
  },
  {
   "cell_type": "code",
   "execution_count": 4,
   "metadata": {},
   "outputs": [],
   "source": [
    "import matplotlib.pyplot as plt\n",
    "import seaborn as sns"
   ]
  },
  {
   "cell_type": "code",
   "execution_count": 5,
   "metadata": {},
   "outputs": [],
   "source": [
    "sns.set_style(\"dark\")\n",
    "sns.set_palette('prism')"
   ]
  },
  {
   "cell_type": "code",
   "execution_count": 6,
   "metadata": {},
   "outputs": [
    {
     "data": {
      "text/plain": [
       "<matplotlib.axes._subplots.AxesSubplot at 0x7f77c0d27a90>"
      ]
     },
     "execution_count": 6,
     "metadata": {},
     "output_type": "execute_result"
    },
    {
     "data": {
      "image/png": "[encoded data removed]",
      "text/plain": [
       "<Figure size 432x288 with 1 Axes>"
      ]
     },
     "metadata": {},
     "output_type": "display_data"
    }
   ],
   "source": [
    "sns.scatterplot(x=X[:,0], y=X[:,1], hue=y)"
   ]
  },
  {
   "cell_type": "code",
   "execution_count": 7,
   "metadata": {},
   "outputs": [],
   "source": [
    "from sklearn.model_selection import train_test_split"
   ]
  },
  {
   "cell_type": "code",
   "execution_count": 8,
   "metadata": {},
   "outputs": [],
   "source": [
    "X_train, X_test, y_train, y_test = train_test_split(X, y, test_size=0.3, random_state=51)"
   ]
  },
  {
   "cell_type": "code",
   "execution_count": 9,
   "metadata": {},
   "outputs": [],
   "source": [
    "import numpy as np "
   ]
  },
  {
   "cell_type": "code",
   "execution_count": 10,
   "metadata": {},
   "outputs": [
    {
     "data": {
      "text/plain": [
       "array([[-0.46700614,  0.97258791,  0.        ],\n",
       "       [-0.62872481,  1.46890002,  0.        ],\n",
       "       [ 0.20093873, -0.76498047,  1.        ],\n",
       "       [-1.22178935, -0.75093565,  0.        ],\n",
       "       [ 1.78114569, -1.25290815,  1.        ]])"
      ]
     },
     "execution_count": 10,
     "metadata": {},
     "output_type": "execute_result"
    }
   ],
   "source": [
    "dataset = np.column_stack((X_train, y_train))\n",
    "dataset[:5,:]"
   ]
  },
  {
   "cell_type": "markdown",
   "metadata": {},
   "source": [
    "## Gini Index\n",
    "The Gini index is the name of the cost function used to evaluate splits in the dataset.\n",
    "\n",
    "A Gini score gives an idea of how good a split is by how mixed the classes are in the two groups created by the split. A perfect separation results in a Gini score of 0, whereas the worst case split that results in 50/50 classes in each group result in a Gini score of 0.5 in binary classification.\n",
    "#### $Gini = 1 - \\sum\\limits_{i = 1}^{c}(p_i)^2$ , where p is the proportion $\\frac{Number\\space of\\space rows \\space of\\space class\\space C}{Total\\space number\\space of\\space Rows}$\n",
    "The Gini index for each group must then be weighted by the size of the group, relative to all of the samples in the parent,\n",
    "####  $Gini = \\sum\\limits_{g = 1}^{G}((1 - \\sum\\limits_{i = 1}^{c}(p_i)^2)\\times \\frac{Group_g\\space Size}{Total\\space Samples})$ "
   ]
  },
  {
   "cell_type": "code",
   "execution_count": 11,
   "metadata": {},
   "outputs": [],
   "source": [
    "def gini_index(groups, classes):\n",
    "    n_instances = sum([len(group) for group in groups])\n",
    "    gini = 0\n",
    "    for group in groups:\n",
    "        size = len(group)\n",
    "        if size == 0:\n",
    "            continue\n",
    "        score = 0\n",
    "        for class_val in classes:\n",
    "            p = [row[-1] for row in group].count(class_val)/size\n",
    "            score += p*p\n",
    "        gini += (1-score)*size/n_instances\n",
    "    return gini"
   ]
  },
  {
   "cell_type": "code",
   "execution_count": 12,
   "metadata": {},
   "outputs": [
    {
     "name": "stdout",
     "output_type": "stream",
     "text": [
      "0.0\n",
      "0.5\n"
     ]
    }
   ],
   "source": [
    "# Test function gini_index\n",
    "print(gini_index([[[2, 1,0],[5, 6,0]],[[2.2, 5,1],[6.6, -4.4,1]]], [0,1]))\n",
    "print(gini_index([[[1,0],[1,1]],[[1,0],[1,1]]], [0,1]))"
   ]
  },
  {
   "cell_type": "markdown",
   "metadata": {},
   "source": [
    "## Create Split\n",
    "Creating a split consists of two parts:\n",
    "\n",
    "### 1) Splitting a Dataset\n",
    "Splitting a dataset means separating a dataset into two lists of rows given the index of an attribute and a split value for that attribute. Once we have the two groups, we can then use our Gini score above to evaluate the cost of the split."
   ]
  },
  {
   "cell_type": "code",
   "execution_count": 13,
   "metadata": {},
   "outputs": [],
   "source": [
    "def test_split(index, value, dataset):\n",
    "    left, right = [], []\n",
    "    for row in dataset:\n",
    "        if row[index] < value:\n",
    "            left.append(row)\n",
    "        else:\n",
    "            right.append(row)\n",
    "    return left, right"
   ]
  },
  {
   "cell_type": "markdown",
   "metadata": {},
   "source": [
    "### 2) Evaluating all Splits\n",
    "Given a dataset, we must check every value on each attribute as a candidate split, evaluate the cost of the split and find the best possible split we could make. Once the best split is found, we can use it as a node in our decision tree."
   ]
  },
  {
   "cell_type": "code",
   "execution_count": 14,
   "metadata": {},
   "outputs": [],
   "source": [
    "class CartNode:\n",
    "    def __init__(self, index, value, groups):\n",
    "        self.index = index\n",
    "        self.value = value\n",
    "        self.groups = groups\n",
    "        self.left = None\n",
    "        self.right = None"
   ]
  },
  {
   "cell_type": "code",
   "execution_count": 15,
   "metadata": {},
   "outputs": [],
   "source": [
    "def get_split(dataset, log=False):\n",
    "    classes = list(set(row[-1] for row in dataset))\n",
    "    b_index, b_value, b_score, b_groups = -1, 0, 1, None\n",
    "    for index in range(len(dataset[0])-1):\n",
    "        for row in dataset:\n",
    "            groups = test_split(index, row[index], dataset)\n",
    "            gini = gini_index(groups, classes)\n",
    "            if log:\n",
    "                print('X%d < %.3f Gini=%.3f' % ((index), row[index], gini))\n",
    "            if gini < b_score:\n",
    "                b_index, b_value, b_score, b_groups = index, row[index], gini, groups\n",
    "    return CartNode(b_index, b_value, b_groups)"
   ]
  },
  {
   "cell_type": "code",
   "execution_count": 16,
   "metadata": {},
   "outputs": [
    {
     "name": "stdout",
     "output_type": "stream",
     "text": [
      "X0 < -0.467 Gini=0.400\n",
      "X0 < -0.629 Gini=0.476\n",
      "X0 < 0.201 Gini=0.171\n",
      "X0 < -1.222 Gini=0.400\n",
      "X0 < 1.781 Gini=0.400\n",
      "X0 < -1.495 Gini=0.480\n",
      "X0 < -0.604 Gini=0.450\n",
      "X0 < -0.938 Gini=0.475\n",
      "X0 < 1.210 Gini=0.300\n",
      "X0 < -0.058 Gini=0.317\n",
      "X1 < 0.973 Gini=0.450\n",
      "X1 < 1.469 Gini=0.400\n",
      "X1 < -0.765 Gini=0.476\n",
      "X1 < -0.751 Gini=0.467\n",
      "X1 < -1.253 Gini=0.444\n",
      "X1 < -0.070 Gini=0.480\n",
      "X1 < -1.193 Gini=0.475\n",
      "X1 < 1.816 Gini=0.444\n",
      "X1 < 1.336 Gini=0.476\n",
      "X1 < -3.304 Gini=0.480\n",
      "\n",
      "Best split: X0 < 0.201\n"
     ]
    },
    {
     "data": {
      "text/plain": [
       "<matplotlib.collections.LineCollection at 0x7f77b3168cd0>"
      ]
     },
     "execution_count": 16,
     "metadata": {},
     "output_type": "execute_result"
    },
    {
     "data": {
      "image/png": "[encoded data removed]",
      "text/plain": [
       "<Figure size 432x288 with 1 Axes>"
      ]
     },
     "metadata": {},
     "output_type": "display_data"
    }
   ],
   "source": [
    "# Testing get_split function\n",
    "node = get_split(dataset[:10, :], log=True)\n",
    "print(\"\\nBest split: X%d < %.3f\"%(node.index, node.value))\n",
    "sns.scatterplot(x=dataset[:10,0], y=dataset[:10,1], hue = dataset[:10,2])\n",
    "plt.vlines(x=node.value, ymin = -3, ymax=3)"
   ]
  },
  {
   "cell_type": "markdown",
   "metadata": {},
   "source": [
    "## Build a Tree\n",
    "Building a tree may be divided into 3 main parts:\n",
    "### 1) Terminal Nodes\n",
    "We need to decide when to stop growing a tree. We can do that using the depth and the number of rows that the node is responsible for in the training dataset.\n",
    "* **Maximum Tree Depth**: This is the maximum number of nodes from the root node of the tree. Once a maximum depth of the tree is met, we must stop splitting adding new nodes. Deeper trees are more complex and are more likely to overfit the training data.\n",
    "* **Minimum Node Records**: This is the minimum number of training patterns that a given node is responsible for. Once at or below this minimum, we must stop splitting and adding new nodes. Nodes that account for too few training patterns are expected to be too specific and are likely to overfit the training data."
   ]
  },
  {
   "cell_type": "code",
   "execution_count": 17,
   "metadata": {},
   "outputs": [],
   "source": [
    "def to_terminal(group):\n",
    "    outcomes = [row[-1] for row in group]\n",
    "    return max(set(outcomes), key=outcomes.count)"
   ]
  },
  {
   "cell_type": "markdown",
   "metadata": {},
   "source": [
    "### 2) Recursive Splitting\n",
    "Building a decision tree involves calling the above **get_split()** function over and over again on the groups created for each node."
   ]
  },
  {
   "cell_type": "code",
   "execution_count": 18,
   "metadata": {},
   "outputs": [],
   "source": [
    "def split(node, max_depth, min_size, depth):\n",
    "    left, right = node.groups\n",
    "    # check for a no split\n",
    "    if not left or not right:\n",
    "        node.left = node.right = to_terminal(left + right)\n",
    "        return\n",
    "    # check for max depth\n",
    "    if depth >= max_depth:\n",
    "        node.left, node.right = to_terminal(left), to_terminal(right)\n",
    "        return\n",
    "    # process left child\n",
    "    if len(left) <= min_size:\n",
    "        node.left = to_terminal(left)\n",
    "    else:\n",
    "        node.left = get_split(left)\n",
    "        split(node.left, max_depth, min_size, depth+1)\n",
    "    # process right child\n",
    "    if len(right) <= min_size:\n",
    "        node.right = to_terminal(right)\n",
    "    else:\n",
    "        node.right = get_split(right)\n",
    "        split(node.right, max_depth, min_size, depth+1)"
   ]
  },
  {
   "cell_type": "markdown",
   "metadata": {},
   "source": [
    "### 3) Build a Tree\n",
    "Building the tree involves creating the root node and calling the split() function that then calls itself recursively to build out the whole tree."
   ]
  },
  {
   "cell_type": "code",
   "execution_count": 19,
   "metadata": {},
   "outputs": [],
   "source": [
    "def build_tree(train, max_depth, min_size):\n",
    "    root = get_split(train)\n",
    "    split(root, max_depth, min_size, 1)\n",
    "    return root"
   ]
  },
  {
   "cell_type": "code",
   "execution_count": 20,
   "metadata": {},
   "outputs": [],
   "source": [
    "def print_tree(node, depth=0):\n",
    "    if isinstance(node, CartNode):\n",
    "        print('%s[X%d < %.3f]' % ((depth*' ', (node.index), node.value)))\n",
    "        print_tree(node.left, depth+1)\n",
    "        print_tree(node.right, depth+1)\n",
    "    else:\n",
    "        print('%s[%s]' % ((depth*' ', node)))"
   ]
  },
  {
   "cell_type": "code",
   "execution_count": 21,
   "metadata": {},
   "outputs": [
    {
     "name": "stdout",
     "output_type": "stream",
     "text": [
      "[X0 < 0.015]\n",
      " [X0 < -1.308]\n",
      "  [0.0]\n",
      "  [0.0]\n",
      " [X1 < -1.861]\n",
      "  [0.0]\n",
      "  [1.0]\n"
     ]
    }
   ],
   "source": [
    "tree = build_tree(dataset, 2, 1)\n",
    "print_tree(tree)"
   ]
  },
  {
   "cell_type": "markdown",
   "metadata": {},
   "source": [
    "## Make Prediction"
   ]
  },
  {
   "cell_type": "code",
   "execution_count": 22,
   "metadata": {},
   "outputs": [],
   "source": [
    "def predict(node, row):\n",
    "    if row[node.index] < node.value:\n",
    "        if isinstance(node.left, CartNode):\n",
    "            return predict(node.left, row)\n",
    "        else:\n",
    "            return node.left\n",
    "    else:\n",
    "        if isinstance(node.right, CartNode):\n",
    "            return predict(node.right, row)\n",
    "        else:\n",
    "            return node.right"
   ]
  },
  {
   "cell_type": "code",
   "execution_count": 23,
   "metadata": {},
   "outputs": [],
   "source": [
    "pred = [predict(tree, row) for row in X_test]"
   ]
  },
  {
   "cell_type": "code",
   "execution_count": 24,
   "metadata": {},
   "outputs": [],
   "source": [
    "from sklearn.metrics import classification_report, confusion_matrix"
   ]
  },
  {
   "cell_type": "code",
   "execution_count": 25,
   "metadata": {},
   "outputs": [
    {
     "name": "stdout",
     "output_type": "stream",
     "text": [
      "[[18  0]\n",
      " [ 2 10]]\n",
      "              precision    recall  f1-score   support\n",
      "\n",
      "           0       0.90      1.00      0.95        18\n",
      "           1       1.00      0.83      0.91        12\n",
      "\n",
      "    accuracy                           0.93        30\n",
      "   macro avg       0.95      0.92      0.93        30\n",
      "weighted avg       0.94      0.93      0.93        30\n",
      "\n"
     ]
    }
   ],
   "source": [
    "print(confusion_matrix(y_test, pred))\n",
    "print(classification_report(y_test, pred))"
   ]
  }
 ],
 "metadata": {
  "kernelspec": {
   "display_name": "Python 3",
   "language": "python",
   "name": "python3"
  },
  "language_info": {
   "codemirror_mode": {
    "name": "ipython",
    "version": 3
   },
   "file_extension": ".py",
   "mimetype": "text/x-python",
   "name": "python",
   "nbconvert_exporter": "python",
   "pygments_lexer": "ipython3",
   "version": "3.7.5"
  }
 },
 "nbformat": 4,
 "nbformat_minor": 2
}
