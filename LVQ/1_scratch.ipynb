{
 "cells": [
  {
   "cell_type": "markdown",
   "metadata": {},
   "source": [
    "# Learning Vector Quantization"
   ]
  },
  {
   "cell_type": "markdown",
   "metadata": {},
   "source": [
    "The representation for LVQ is a collection of **codebook vectors**. A codebook vector is a list of numbers that have the same input and output attributes as your training data.\n",
    "\n",
    "The model representation is a fixed pool of codebook vectors, learned from the training data. They look like training instances, but the values of each attribute have been adapted based on the learning procedure. In the language of neural networks, each codebook vector may be called a neuron, each attribute on a codebook vector is called a weight and the collection of codebook vectors is called a network."
   ]
  },
  {
   "cell_type": "markdown",
   "metadata": {},
   "source": [
    "## Creating Fake Data"
   ]
  },
  {
   "cell_type": "code",
   "execution_count": 1,
   "metadata": {},
   "outputs": [],
   "source": [
    "from sklearn.datasets import make_classification"
   ]
  },
  {
   "cell_type": "code",
   "execution_count": 2,
   "metadata": {},
   "outputs": [],
   "source": [
    "X, y = make_classification(n_samples=100, n_features=2, n_classes=2, n_redundant=0, random_state=101)"
   ]
  },
  {
   "cell_type": "code",
   "execution_count": 3,
   "metadata": {},
   "outputs": [
    {
     "name": "stdout",
     "output_type": "stream",
     "text": [
      "First 5 X:\n",
      "[[ 2.34669706  1.99811892]\n",
      " [ 2.40710326  2.2038783 ]\n",
      " [-0.077088   -1.43258858]\n",
      " [ 2.73918283  1.15325581]\n",
      " [-0.75506174  0.61430643]]\n",
      "\n",
      "First 5 y:\n",
      "[1 1 0 1 1]\n"
     ]
    }
   ],
   "source": [
    "print(\"First 5 X:\")\n",
    "print(X[0:5,])\n",
    "print(\"\\nFirst 5 y:\")\n",
    "print(y[0:5])"
   ]
  },
  {
   "cell_type": "code",
   "execution_count": 4,
   "metadata": {},
   "outputs": [],
   "source": [
    "import matplotlib.pyplot as plt"
   ]
  },
  {
   "cell_type": "code",
   "execution_count": 5,
   "metadata": {},
   "outputs": [
    {
     "data": {
      "text/plain": [
       "<matplotlib.collections.PathCollection at 0x7f11cd9bb250>"
      ]
     },
     "execution_count": 5,
     "metadata": {},
     "output_type": "execute_result"
    },
    {
     "data": {
      "image/png": "[encoded data removed]",
      "text/plain": [
       "<Figure size 432x288 with 1 Axes>"
      ]
     },
     "metadata": {
      "needs_background": "light"
     },
     "output_type": "display_data"
    }
   ],
   "source": [
    "plt.scatter(X[:,0], X[:,1], c = y, cmap=\"Wistia\")"
   ]
  },
  {
   "cell_type": "code",
   "execution_count": 6,
   "metadata": {},
   "outputs": [],
   "source": [
    "from sklearn.model_selection import train_test_split"
   ]
  },
  {
   "cell_type": "code",
   "execution_count": 7,
   "metadata": {},
   "outputs": [],
   "source": [
    "X_train, X_test, y_train, y_test = train_test_split(X, y, test_size=0.2, random_state=101)"
   ]
  },
  {
   "cell_type": "code",
   "execution_count": 8,
   "metadata": {},
   "outputs": [],
   "source": [
    "import numpy as np"
   ]
  },
  {
   "cell_type": "code",
   "execution_count": 13,
   "metadata": {},
   "outputs": [],
   "source": [
    "data = np.column_stack((X_train, y_train))"
   ]
  },
  {
   "cell_type": "code",
   "execution_count": 14,
   "metadata": {},
   "outputs": [
    {
     "data": {
      "text/plain": [
       "(80, 3)"
      ]
     },
     "execution_count": 14,
     "metadata": {},
     "output_type": "execute_result"
    }
   ],
   "source": [
    "data.shape"
   ]
  },
  {
   "cell_type": "markdown",
   "metadata": {},
   "source": [
    "## Learning LVQ model from data\n",
    "Learning process can be divided into following steps:\n",
    "\n",
    "1) Calculating Euclidean Distance  \n",
    "2) Calculating the Best Matching Unit(BMU)  \n",
    "3) Training the Codebook vectors  "
   ]
  },
  {
   "cell_type": "markdown",
   "metadata": {},
   "source": [
    "### Step 1: Calculating Euclidean Distance\n",
    "Instead of finding the actual euclidean distance we can use square of that distance because we just want a measure not the actual distance."
   ]
  },
  {
   "cell_type": "code",
   "execution_count": 15,
   "metadata": {},
   "outputs": [],
   "source": [
    "def euclidean_distance(row1, row2):\n",
    "    distance = 0\n",
    "    for i in range(len(row1)-1):\n",
    "        distance += (row1[i] - row2[i])**2\n",
    "    return distance"
   ]
  },
  {
   "cell_type": "markdown",
   "metadata": {},
   "source": [
    "### Step 2: Finding BMU\n",
    "The Best Matching Unit or BMU is the codebook vector that is most similar to a new piece of data.\n",
    "\n",
    "To locate the BMU for a new piece of data within a dataset we must first calculate the distance between each codebook to the new piece of data. Once distances are calculated, we must sort all of the codebooks by their distance to the new data. We can then return the first or most similar codebook vector."
   ]
  },
  {
   "cell_type": "code",
   "execution_count": 25,
   "metadata": {},
   "outputs": [],
   "source": [
    "def get_bmu(codebooks, new_row):\n",
    "    distances = []\n",
    "    for codebook in codebooks:\n",
    "        dist = euclidean_distance(codebook, new_row)\n",
    "        distances.append((codebook, dist))\n",
    "    distances.sort(key = lambda t: t[1])\n",
    "    return distances[0][0]"
   ]
  },
  {
   "cell_type": "markdown",
   "metadata": {},
   "source": [
    "### Step 3: Training Codebook vectors\n",
    "\n",
    "The first step in training a set of codebook vectors is to initialize the set."
   ]
  },
  {
   "cell_type": "code",
   "execution_count": 23,
   "metadata": {},
   "outputs": [],
   "source": [
    "from random import randrange\n",
    "def random_codebook(train):\n",
    "    n_records = len(train)\n",
    "    n_features = len(train[0])\n",
    "    codebook = [train[randrange(n_records)][i] for i in range(n_features)]\n",
    "    return codebook"
   ]
  },
  {
   "cell_type": "markdown",
   "metadata": {},
   "source": [
    "After this, the best matching unit is found for each training pattern and only this best matching unit is updated. The difference between the training pattern and the BMU is calculated as the error. The class values are compared. If they match, the error is added to the BMU to bring it closer to the training pattern, otherwise, it is subtracted to push it further away. The amount that the BMU is adjusted is controlled by a learning rate.\n",
    "\n",
    "If class matches:\n",
    "### $x = x+\\alpha(t-x)$\n",
    "\n",
    "If class doesn't matches:\n",
    "### $x = x-\\alpha(t-x)$\n",
    "\n",
    "Learning rate changes according to the following formula:\n",
    "### $learningRate = \\alpha\\cdot(1-\\frac{Epoch}{Max Epoch})$"
   ]
  },
  {
   "cell_type": "code",
   "execution_count": 19,
   "metadata": {},
   "outputs": [],
   "source": [
    "def fit(train, n_codebooks, lrate, epochs):\n",
    "    codebooks = [random_codebook(train) for _ in range(n_codebooks)]\n",
    "    for epoch in range(epochs):\n",
    "        rate = lrate*(1-(epoch/epochs))\n",
    "        sum_error = 0\n",
    "        for row in train:\n",
    "            bmu = get_bmu(codebooks, row)\n",
    "            for i in range(len(row)-1):\n",
    "                error = row[i] - bmu[i]\n",
    "                sum_error += error**2\n",
    "                if bmu[-1] == row[-1]:\n",
    "                    bmu[i] += rate*error\n",
    "                else:\n",
    "                    bmu[i] -= rate*error\n",
    "        print(\"Epoch: %d, error: %.3f\" % (epoch, sum_error))\n",
    "    return codebooks"
   ]
  },
  {
   "cell_type": "code",
   "execution_count": 43,
   "metadata": {},
   "outputs": [
    {
     "name": "stdout",
     "output_type": "stream",
     "text": [
      "Epoch: 0, error: 105.984\n",
      "Epoch: 1, error: 89.892\n",
      "Epoch: 2, error: 94.383\n",
      "Epoch: 3, error: 93.021\n",
      "Epoch: 4, error: 91.772\n",
      "Epoch: 5, error: 86.392\n",
      "Epoch: 6, error: 85.651\n",
      "Epoch: 7, error: 84.557\n",
      "Epoch: 8, error: 83.562\n",
      "Epoch: 9, error: 81.112\n",
      "Epoch: 10, error: 80.245\n",
      "Epoch: 11, error: 79.429\n",
      "Epoch: 12, error: 78.428\n",
      "Epoch: 13, error: 77.971\n",
      "Epoch: 14, error: 77.100\n",
      "Epoch: 15, error: 76.213\n",
      "Epoch: 16, error: 75.390\n",
      "Epoch: 17, error: 74.636\n",
      "Epoch: 18, error: 71.237\n",
      "Epoch: 19, error: 69.744\n"
     ]
    }
   ],
   "source": [
    "codebooks = fit(data, 4, 0.5, 20)"
   ]
  },
  {
   "cell_type": "code",
   "execution_count": 46,
   "metadata": {},
   "outputs": [
    {
     "name": "stdout",
     "output_type": "stream",
     "text": [
      "[-1.7044161464062937, -1.2916694165614362, 0.0]\n",
      "[0.8243777743259082, -1.0545765533356721, 0.0]\n",
      "[0.8759917319205104, 1.3814029793541176, 1.0]\n",
      "[-1.3530155758758367, 0.6668907016754062, 1.0]\n"
     ]
    }
   ],
   "source": [
    "for i in codebooks:\n",
    "    print(i)"
   ]
  },
  {
   "cell_type": "markdown",
   "metadata": {},
   "source": [
    "## Making Prediction\n",
    "Once the codebook vectors are learned, they can be used to make predictions. We can use the same procedure as KNN to make predictions, although K is set to 1."
   ]
  },
  {
   "cell_type": "code",
   "execution_count": 47,
   "metadata": {},
   "outputs": [],
   "source": [
    "def predict(test, codebooks):\n",
    "    pred=[]\n",
    "    for row in test:\n",
    "        bmu = get_bmu(codebooks, row)\n",
    "        pred.append(bmu[-1])\n",
    "    return pred"
   ]
  },
  {
   "cell_type": "code",
   "execution_count": 49,
   "metadata": {},
   "outputs": [],
   "source": [
    "pred = predict(X_test, codebooks)"
   ]
  },
  {
   "cell_type": "code",
   "execution_count": 50,
   "metadata": {},
   "outputs": [
    {
     "name": "stdout",
     "output_type": "stream",
     "text": [
      "[[9 1]\n",
      " [1 9]]\n",
      "              precision    recall  f1-score   support\n",
      "\n",
      "           0       0.90      0.90      0.90        10\n",
      "           1       0.90      0.90      0.90        10\n",
      "\n",
      "    accuracy                           0.90        20\n",
      "   macro avg       0.90      0.90      0.90        20\n",
      "weighted avg       0.90      0.90      0.90        20\n",
      "\n"
     ]
    }
   ],
   "source": [
    "from sklearn.metrics import confusion_matrix, classification_report\n",
    "print(confusion_matrix(y_test, pred))\n",
    "print(classification_report(y_test, pred))"
   ]
  }
 ],
 "metadata": {
  "kernelspec": {
   "display_name": "Python 3",
   "language": "python",
   "name": "python3"
  },
  "language_info": {
   "codemirror_mode": {
    "name": "ipython",
    "version": 3
   },
   "file_extension": ".py",
   "mimetype": "text/x-python",
   "name": "python",
   "nbconvert_exporter": "python",
   "pygments_lexer": "ipython3",
   "version": "3.7.5"
  }
 },
 "nbformat": 4,
 "nbformat_minor": 2
}
