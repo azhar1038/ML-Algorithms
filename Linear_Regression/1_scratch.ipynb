{
 "cells": [
  {
   "cell_type": "markdown",
   "metadata": {},
   "source": [
    "# Linear Regression using Inverse, QR Decomposition and Pseudoinverse (Derivations excluded)\n",
    "Linear regression is a method for modeling the relationship between two scalar values: the input variable x and the output variable y.\n",
    "### <center>$y = f(x) $</center>\n",
    "The model can also be used to model an output variable given multiple input variables called **multivariate linear regression**. Expressed along with coefficients as:\n",
    "### <center>$y = b_0 + b_1x_1 + b_2x_2 + ...$</center>\n",
    "The objective of creating a linear regression model is to find the values for the coefficient values (b) that minimize the error in the prediction of the output variable y.<br>\n",
    "***"
   ]
  },
  {
   "cell_type": "markdown",
   "metadata": {},
   "source": [
    "## Matrix Formulation of Linear Regression\n",
    "### <center>$y = Xb $</center>\n",
    "Where X is the input data and each column is a data feature, b is a vector of coefficients and y is a vector of output variables for each row in X.\n",
    "### <center>$X = \\begin{bmatrix} x_{1,1} &x_{1,2} &x_{1,3}\\\\\n",
    "x_{2,1} &x_{2,2} &x_{2,3}\\\\\n",
    "x_{3,1} &x_{3,2} &x_{3,3}\\\\\n",
    "x_{4,1} &x_{4,2} &x_{4,3}\\\\\n",
    "\\end{bmatrix}$</center>\n",
    "### <center>$b = \\begin{bmatrix} b_1\\\\b_2\\\\b_3\\end{bmatrix} \\hspace{1cm} y = \\begin{bmatrix} y_1\\\\y_2\\\\y_3\\\\y_4\\end{bmatrix} $</center>\n",
    "Reformulated, the problem becomes a system of linear equations where the b vector values are unknown. This type of system is referred to as **overdetermined** because there are more equations than there are unknowns, i.e. each coefficient is used on each row of data.It is a challenging problem to solve analytically because there are multiple inconsistent solutions. Further, all solutions will have some error because there is no line that will pass nearly through all points. The way this is typically achieved is by finding a solution where the values for <b>b</b> in the model minimize the **squared error**. This is called **linear least squares**.\n",
    "***\n",
    "In matrix notation, this problem is formulated using the so-named normal equation:\n",
    "### <center>$X^TXb = X^Ty$</center>\n",
    "This can be rearranged as:\n",
    "### <center>$b = (X^TX)^{-1}X^Ty$</center>\n",
    "This can be solved directly, although given the presence of the matrix inverse can be numerically challenging or unstable."
   ]
  },
  {
   "cell_type": "markdown",
   "metadata": {},
   "source": [
    "## Creating Fake data"
   ]
  },
  {
   "cell_type": "code",
   "execution_count": 6,
   "metadata": {},
   "outputs": [],
   "source": [
    "from numpy import array\n",
    "import matplotlib.pyplot as plt"
   ]
  },
  {
   "cell_type": "code",
   "execution_count": 7,
   "metadata": {},
   "outputs": [
    {
     "name": "stdout",
     "output_type": "stream",
     "text": [
      "[[0.05 0.12]\n",
      " [0.18 0.22]\n",
      " [0.31 0.35]\n",
      " [0.42 0.38]\n",
      " [0.5  0.49]]\n"
     ]
    }
   ],
   "source": [
    "data = array([\n",
    "[0.05, 0.12],\n",
    "[0.18, 0.22],\n",
    "[0.31, 0.35],\n",
    "[0.42, 0.38],\n",
    "[0.5, 0.49]])\n",
    "print(data)"
   ]
  },
  {
   "cell_type": "code",
   "execution_count": 8,
   "metadata": {},
   "outputs": [
    {
     "data": {
      "text/plain": [
       "<matplotlib.collections.PathCollection at 0x7fe2e155b690>"
      ]
     },
     "execution_count": 8,
     "metadata": {},
     "output_type": "execute_result"
    },
    {
     "data": {
      "image/png": "[encoded data removed]",
      "text/plain": [
       "<Figure size 432x288 with 1 Axes>"
      ]
     },
     "metadata": {
      "needs_background": "light"
     },
     "output_type": "display_data"
    }
   ],
   "source": [
    "X = data[:,0]\n",
    "y = data[:,1]\n",
    "plt.scatter(X, y)"
   ]
  },
  {
   "cell_type": "code",
   "execution_count": 12,
   "metadata": {},
   "outputs": [],
   "source": [
    "X = X.reshape((-1,1))\n",
    "y = y.reshape((-1, 1))"
   ]
  },
  {
   "cell_type": "markdown",
   "metadata": {},
   "source": [
    "## Solve via Inverse"
   ]
  },
  {
   "cell_type": "code",
   "execution_count": 14,
   "metadata": {},
   "outputs": [
    {
     "name": "stdout",
     "output_type": "stream",
     "text": [
      "[[1.00233226]]\n"
     ]
    }
   ],
   "source": [
    "from numpy import dot\n",
    "from numpy.linalg import inv\n",
    "b = inv(X.T.dot(X)).dot(X.T).dot(y)\n",
    "print(b)"
   ]
  },
  {
   "cell_type": "code",
   "execution_count": 17,
   "metadata": {},
   "outputs": [
    {
     "data": {
      "text/plain": [
       "[<matplotlib.lines.Line2D at 0x7fe2ddafb390>]"
      ]
     },
     "execution_count": 17,
     "metadata": {},
     "output_type": "execute_result"
    },
    {
     "data": {
      "image/png": "[encoded data removed]",
      "text/plain": [
       "<Figure size 432x288 with 1 Axes>"
      ]
     },
     "metadata": {
      "needs_background": "light"
     },
     "output_type": "display_data"
    }
   ],
   "source": [
    "yhat = X.dot(b)\n",
    "plt.scatter(X,y)\n",
    "plt.plot(X, yhat, 'r*-')"
   ]
  },
  {
   "cell_type": "markdown",
   "metadata": {},
   "source": [
    "## Solve via QR Decomposition\n",
    "The QR decomposition is an approach of breaking a matrix down into its constituent elements.\n",
    "### <center>$A = Q . R$</center>\n",
    "Stepping over all of the derivation, the coefficients can be found using the Q and R elements as follows:\n",
    "### <center>$b = R^{-1}.Q^T.y$</center>\n",
    "Where A is the matrix of size m × n that we wish to decompose, Q a matrix with the size m × m, and R is an upper triangle matrix with the size m × n.\n",
    "  \n",
    "The QR decomposition approach is more computationally efficient and more numerically stable than calculating the normal equation directly, but does not work for all data matrices."
   ]
  },
  {
   "cell_type": "code",
   "execution_count": 20,
   "metadata": {},
   "outputs": [
    {
     "name": "stdout",
     "output_type": "stream",
     "text": [
      "[[1.00233226]]\n"
     ]
    }
   ],
   "source": [
    "from numpy.linalg import qr\n",
    "Q, R = qr(X)\n",
    "b = inv(R).dot(Q.T).dot(y)\n",
    "print(b)"
   ]
  },
  {
   "cell_type": "code",
   "execution_count": 22,
   "metadata": {},
   "outputs": [
    {
     "data": {
      "text/plain": [
       "[<matplotlib.lines.Line2D at 0x7fe2dd9be610>]"
      ]
     },
     "execution_count": 22,
     "metadata": {},
     "output_type": "execute_result"
    },
    {
     "data": {
      "image/png": "[encoded data removed]",
      "text/plain": [
       "<Figure size 432x288 with 1 Axes>"
      ]
     },
     "metadata": {
      "needs_background": "light"
     },
     "output_type": "display_data"
    }
   ],
   "source": [
    "yhat = X.dot(b)\n",
    "plt.scatter(X,y)\n",
    "plt.plot(X, yhat, 'ro-')"
   ]
  },
  {
   "cell_type": "markdown",
   "metadata": {},
   "source": [
    "## Solve via SVD and Pseudoinverse\n",
    "### SVD\n",
    "The Singular-Value Decomposition, or SVD for short, is a matrix decomposition method like the QR decomposition.\n",
    "### <center>$A = U \\cdot \\Sigma \\cdot V^T$</center>\n",
    "Where A is the real $n \\times m$ matrix that we wish to decompose, U is an $m \\times m$ matrix, $\\Sigma$ is an $m \\times n$ diagonal matrix, and $V^T$ is the V transpose of an $n \\times n$ matrix.\n",
    "\n",
    "* The diagonal values in the $\\Sigma$ matrix are known as the singular values of the original matrix A\n",
    "* The columns of the U matrix are called the left-singular vectors of A\n",
    "* The columns of V are called the right-singular vectors of A\n",
    "\n",
    "Every rectangular matrix has a singular value decomposition, although the resulting matrices may contain complex numbers and the limitations of floating point arithmetic may cause some matrices to fail to decompose neatly.\n",
    "### Pseudoinverse\n",
    "The pseudoinverse is the generalization of the matrix inverse for square matrices to rectangular matrices where the number of rows and columns are not equal. It is also called the **Moore-Penrose Inverse**.  \n",
    "  \n",
    "  \n",
    "The pseudoinverse is denoted as $A^+$, where A is the matrix that is being inverted and is done as:\n",
    "### <center>$A^+ = V \\cdot D^+ \\cdot U^T$</center>\n",
    "where $D^+$ is the pseudoinverse of the diagonal matrix $\\Sigma$\n",
    "\n",
    "The $D^+$ can be calculated by creating a diagonal matrix from $\\Sigma$, calculating the reciprocal of each non-zero element in $\\Sigma$, and taking the transpose if the original matrix was rectangular.  \n",
    "  \n",
    "We can calculate <b>b</b> as:\n",
    "### <center>$b = X^+ \\cdot y$</center>"
   ]
  },
  {
   "cell_type": "code",
   "execution_count": 24,
   "metadata": {},
   "outputs": [
    {
     "name": "stdout",
     "output_type": "stream",
     "text": [
      "[[1.00233226]]\n"
     ]
    }
   ],
   "source": [
    "from numpy.linalg import pinv\n",
    "b = pinv(X).dot(y)\n",
    "print(b)"
   ]
  },
  {
   "cell_type": "code",
   "execution_count": 27,
   "metadata": {},
   "outputs": [
    {
     "data": {
      "text/plain": [
       "[<matplotlib.lines.Line2D at 0x7fe2dd86aad0>]"
      ]
     },
     "execution_count": 27,
     "metadata": {},
     "output_type": "execute_result"
    },
    {
     "data": {
      "image/png": "[encoded data removed]",
      "text/plain": [
       "<Figure size 432x288 with 1 Axes>"
      ]
     },
     "metadata": {
      "needs_background": "light"
     },
     "output_type": "display_data"
    }
   ],
   "source": [
    "yhat = X.dot(b)\n",
    "plt.scatter(X,y)\n",
    "plt.plot(X, yhat, 'r+-')"
   ]
  },
  {
   "cell_type": "markdown",
   "metadata": {},
   "source": [
    "## With a Bias term (intercept term)"
   ]
  },
  {
   "cell_type": "code",
   "execution_count": 33,
   "metadata": {},
   "outputs": [],
   "source": [
    "# 1 is added to include the bias term\n",
    "X = array([\n",
    "    [0.05, 1],\n",
    "    [0.18, 1],\n",
    "    [0.31, 1],\n",
    "    [0.42, 1],\n",
    "    [0.5, 1]\n",
    "])"
   ]
  },
  {
   "cell_type": "code",
   "execution_count": 41,
   "metadata": {},
   "outputs": [
    {
     "name": "stdout",
     "output_type": "stream",
     "text": [
      "Coefficient: [0.78715288]\n",
      "Intercept: [0.08215136]\n"
     ]
    }
   ],
   "source": [
    "b = pinv(X).dot(y)\n",
    "print(\"Coefficient:\", b[0])\n",
    "print(\"Intercept:\", b[1])"
   ]
  },
  {
   "cell_type": "code",
   "execution_count": 35,
   "metadata": {},
   "outputs": [],
   "source": [
    "yhat = X.dot(b)"
   ]
  },
  {
   "cell_type": "code",
   "execution_count": 40,
   "metadata": {},
   "outputs": [
    {
     "data": {
      "text/plain": [
       "[<matplotlib.lines.Line2D at 0x7fe2dc90e350>]"
      ]
     },
     "execution_count": 40,
     "metadata": {},
     "output_type": "execute_result"
    },
    {
     "data": {
      "image/png": "[encoded data removed]",
      "text/plain": [
       "<Figure size 432x288 with 1 Axes>"
      ]
     },
     "metadata": {
      "needs_background": "light"
     },
     "output_type": "display_data"
    }
   ],
   "source": [
    "plt.scatter(X[:,0],y)\n",
    "plt.plot(X[:,0], yhat, 'r+--')"
   ]
  }
 ],
 "metadata": {
  "kernelspec": {
   "display_name": "Python 3",
   "language": "python",
   "name": "python3"
  },
  "language_info": {
   "codemirror_mode": {
    "name": "ipython",
    "version": 3
   },
   "file_extension": ".py",
   "mimetype": "text/x-python",
   "name": "python",
   "nbconvert_exporter": "python",
   "pygments_lexer": "ipython3",
   "version": "3.7.5"
  }
 },
 "nbformat": 4,
 "nbformat_minor": 2
}
