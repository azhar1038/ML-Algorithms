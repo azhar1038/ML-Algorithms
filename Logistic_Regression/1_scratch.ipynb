{
 "cells": [
  {
   "cell_type": "markdown",
   "metadata": {},
   "source": [
    "# Logistic Regression using Stochastic Gradient Descent"
   ]
  },
  {
   "cell_type": "markdown",
   "metadata": {},
   "source": [
    "## Logistic Regression\n",
    "The logistic regression model takes real-valued inputs and makes a prediction as to the probability\n",
    "of the input belonging to the default class (class 1). If the probability is greater than 0.5 we can\n",
    "take the output as a prediction for the default class (class 1), otherwise the prediction is for\n",
    "the other class (class 0). For this dataset, the logistic regression has three coefficients just like\n",
    "linear regression, for example:\n",
    "\n",
    "### <center>$output = B0 + B1 \\times X0 + B2 \\times X1$</center>\n",
    "\n",
    "The job of the learning algorithm will be to discover the best values for the coefficients (B0,\n",
    "B1 and B2) based on the training data. Unlike linear regression, the output is transformed into\n",
    "a probability using the logistic function:\n",
    "\n",
    "### <center>$p(class = 1) = \\frac{1}{1+e^{-output}}$</center>\n"
   ]
  },
  {
   "cell_type": "markdown",
   "metadata": {},
   "source": [
    "## Creating Fake data"
   ]
  },
  {
   "cell_type": "code",
   "execution_count": 1,
   "metadata": {},
   "outputs": [],
   "source": [
    "from sklearn.datasets import make_classification"
   ]
  },
  {
   "cell_type": "code",
   "execution_count": 2,
   "metadata": {},
   "outputs": [],
   "source": [
    "X, y = make_classification(n_samples=50, n_features=2, n_classes=2, n_redundant=0, random_state=101)"
   ]
  },
  {
   "cell_type": "code",
   "execution_count": 3,
   "metadata": {},
   "outputs": [
    {
     "name": "stdout",
     "output_type": "stream",
     "text": [
      "First 5 X:\n",
      "[[ 1.06906418 -2.74193917]\n",
      " [ 2.82158346  1.28185188]\n",
      " [-0.66408364 -0.95363232]\n",
      " [ 0.85559775  1.1921332 ]\n",
      " [-0.7028863  -1.0547168 ]]\n",
      "\n",
      "First 5 y:\n",
      "[1 1 0 1 0]\n"
     ]
    }
   ],
   "source": [
    "print(\"First 5 X:\")\n",
    "print(X[0:5,])\n",
    "print(\"\\nFirst 5 y:\")\n",
    "print(y[0:5])"
   ]
  },
  {
   "cell_type": "code",
   "execution_count": 4,
   "metadata": {},
   "outputs": [],
   "source": [
    "import matplotlib.pyplot as plt"
   ]
  },
  {
   "cell_type": "code",
   "execution_count": 5,
   "metadata": {},
   "outputs": [
    {
     "data": {
      "text/plain": [
       "<matplotlib.collections.PathCollection at 0x7f3ed3cbb690>"
      ]
     },
     "execution_count": 5,
     "metadata": {},
     "output_type": "execute_result"
    },
    {
     "data": {
      "image/png": "[encoded data removed]",
      "text/plain": [
       "<Figure size 432x288 with 1 Axes>"
      ]
     },
     "metadata": {
      "needs_background": "light"
     },
     "output_type": "display_data"
    }
   ],
   "source": [
    "plt.scatter(X[:,0], X[:,1], c = y, cmap=\"rainbow\")"
   ]
  },
  {
   "cell_type": "markdown",
   "metadata": {},
   "source": [
    "## Using Stochastic Gradient Descent"
   ]
  },
  {
   "cell_type": "markdown",
   "metadata": {},
   "source": [
    "### Step 1: Calculate Prediction\n",
    "\n",
    "Let’s start off by assigning 0.0 to each coefficient and calculating the probability of the first\n",
    "training instance"
   ]
  },
  {
   "cell_type": "code",
   "execution_count": 6,
   "metadata": {},
   "outputs": [],
   "source": [
    "b0 = 0\n",
    "b1 = 0\n",
    "b2 = 0"
   ]
  },
  {
   "cell_type": "code",
   "execution_count": 7,
   "metadata": {},
   "outputs": [
    {
     "name": "stdout",
     "output_type": "stream",
     "text": [
      "0.5\n"
     ]
    }
   ],
   "source": [
    "from math import exp\n",
    "output = b0 + b1*X[0,0] + b2*X[0,1]\n",
    "prediction = 1/(1+exp(-1*output))\n",
    "print(prediction)"
   ]
  },
  {
   "cell_type": "markdown",
   "metadata": {},
   "source": [
    "### Step 2: Calculate new Coefficients\n",
    "We can calculate the new coefficient values using a simple update equation:\n",
    "### <center>$b = b + \\alpha \\times (y - prediction) \\times prediction \\times (1 - prediction) \\times x$</center>\n",
    "where $\\alpha $ is learning rate. Let's choose $\\alpha = 0.3$\n",
    "\n",
    "### Derivation\n",
    "### $\\hat{y} = \\frac{1}{1+e^{b_0 + b_1\\cdot x}}$\n",
    "### $b_{new} = b_{old} - \\alpha \\times \\frac{\\partial}{\\partial b}Loss(B)$\n",
    "### $Loss(B) = (y - \\hat{y})^2$ (in Stocastic Gradient)\n",
    "### $\\frac{\\partial}{\\partial b_i}Loss(B) = \\frac{\\partial}{\\partial b_i}(y - \\hat{y})^2$\n",
    "### $= 2(y - \\hat{y})\\frac{\\partial}{\\partial b_i}(y - \\hat{y})$\n",
    "### $= -2(y - \\hat{y})\\cdot \\hat{y}\\cdot (1 - \\hat{y}) \\cdot \\frac{\\partial}{\\partial b_i}(b_0+b_1\\cdot x)$  As for $y = \\sigma (x)$, $\\frac{\\partial y}{\\partial x} = y(1 - y)$\n",
    "### $\\implies \\frac{\\partial Loss(b)}{\\partial b_0} = -2(y - \\hat{y})\\cdot \\hat{y}\\cdot (1 - \\hat{y}) \\cdot \\frac{\\partial}{\\partial b_0}(b_0+b_1\\cdot x)$\n",
    "### $= -2(y - \\hat{y})\\cdot \\hat{y}\\cdot (1 - \\hat{y})$\n",
    "### Also\n",
    "### $\\frac{\\partial Loss(b)}{\\partial b_1} = -2(y - \\hat{y})\\cdot \\hat{y}\\cdot (1 - \\hat{y}) \\cdot \\frac{\\partial}{\\partial b_1}(b_0+b_1\\cdot x)$\n",
    "### $= -2(y - \\hat{y})\\cdot \\hat{y}\\cdot (1 - \\hat{y}) \\cdot x$\n",
    "### So\n",
    "### $b_0 = b_0 + \\alpha \\cdot (y - \\hat{y}) \\cdot \\hat{y} \\cdot (1 - \\hat{y})$\n",
    "### $b_1 = b_1 + \\alpha \\cdot (y - \\hat{y}) \\cdot \\hat{y} \\cdot (1 - \\hat{y}) \\cdot x$\n",
    "\n",
    "Similarly it can be extended for $b_2$"
   ]
  },
  {
   "cell_type": "code",
   "execution_count": 8,
   "metadata": {},
   "outputs": [
    {
     "name": "stdout",
     "output_type": "stream",
     "text": [
      "b0 = 0.0375\n",
      "b1 = 0.040089906932183124\n",
      "b2 = -0.1028227188303725\n"
     ]
    }
   ],
   "source": [
    "alpha = 0.3\n",
    "b0 = b0 + alpha*(y[0]-prediction)*prediction*(1-prediction)*1\n",
    "b1 = b1 + alpha*(y[0]-prediction)*prediction*(1-prediction)*X[0,0]\n",
    "b2 = b2 + alpha*(y[0]-prediction)*prediction*(1-prediction)*X[0,1]\n",
    "print(\"b0 =\",b0)\n",
    "print(\"b1 =\",b1)\n",
    "print(\"b2 =\",b2)"
   ]
  },
  {
   "cell_type": "markdown",
   "metadata": {},
   "source": [
    "### Step 3: Repeat the process\n",
    "We can repeat this process and update the model for each training instance in the dataset. A single iteration through the training dataset is called an **epoch**. It is common to repeat the stochastic gradient descent procedure for a fixed number of epochs. At the end of epoch you can calculate error values for the model."
   ]
  },
  {
   "cell_type": "markdown",
   "metadata": {},
   "source": [
    "### Complete code for binary logistic regression with stochastic gradient descent"
   ]
  },
  {
   "cell_type": "code",
   "execution_count": 9,
   "metadata": {},
   "outputs": [],
   "source": [
    "from sklearn.metrics import accuracy_score\n",
    "def get_accuracy(b0, b1, b2):\n",
    "    yhat = []\n",
    "    for i in range(0, 50):\n",
    "        output = b0 + b1*X[i,0] + b2*X[i,1]\n",
    "        probability = 1/(1+exp(-1*output))\n",
    "        if(probability > 0.5):\n",
    "            yhat.append(1)\n",
    "        else:\n",
    "            yhat.append(0)\n",
    "    return accuracy_score(y, yhat)"
   ]
  },
  {
   "cell_type": "code",
   "execution_count": 10,
   "metadata": {},
   "outputs": [],
   "source": [
    "b0 = 0\n",
    "b1 = 0\n",
    "b2 = 0\n",
    "alpha = 0.3\n",
    "accuracy=[]\n",
    "for epoch in range(0, 30):\n",
    "    for i in range(0, 50):\n",
    "        output = b0 + b1*X[i,0] + b2*X[i,1]\n",
    "        prediction = 1/(1+exp(-1*output))\n",
    "        b0 = b0 + alpha*(y[i]-prediction)*prediction*(1-prediction)*1\n",
    "        b1 = b1 + alpha*(y[i]-prediction)*prediction*(1-prediction)*X[i,0]\n",
    "        b2 = b2 + alpha*(y[i]-prediction)*prediction*(1-prediction)*X[i,1]\n",
    "    accuracy.append(get_accuracy(b0, b1, b2))"
   ]
  },
  {
   "cell_type": "code",
   "execution_count": 11,
   "metadata": {},
   "outputs": [
    {
     "data": {
      "text/plain": [
       "[<matplotlib.lines.Line2D at 0x7f3ece93ded0>]"
      ]
     },
     "execution_count": 11,
     "metadata": {},
     "output_type": "execute_result"
    },
    {
     "data": {
      "image/png": "[encoded data removed]",
      "text/plain": [
       "<Figure size 432x288 with 1 Axes>"
      ]
     },
     "metadata": {
      "needs_background": "light"
     },
     "output_type": "display_data"
    }
   ],
   "source": [
    "plt.plot(range(0,30), accuracy)"
   ]
  },
  {
   "cell_type": "code",
   "execution_count": 12,
   "metadata": {},
   "outputs": [
    {
     "name": "stdout",
     "output_type": "stream",
     "text": [
      "B0 = 0.6469558836416578\n",
      "B1 = 3.1365781359367455\n",
      "B2 = 0.3955425768683053\n"
     ]
    }
   ],
   "source": [
    "print(\"B0 =\", b0)\n",
    "print(\"B1 =\", b1)\n",
    "print(\"B2 =\", b2)"
   ]
  },
  {
   "cell_type": "code",
   "execution_count": 13,
   "metadata": {},
   "outputs": [],
   "source": [
    "from sklearn.metrics import classification_report"
   ]
  },
  {
   "cell_type": "code",
   "execution_count": 15,
   "metadata": {},
   "outputs": [],
   "source": [
    "predictions = []\n",
    "for x in X:\n",
    "    p = b0 + b1*x[0] + b2*x[1]\n",
    "    if(p > 0.5):\n",
    "        predictions.append(1)\n",
    "    else:\n",
    "        predictions.append(0)"
   ]
  },
  {
   "cell_type": "code",
   "execution_count": 16,
   "metadata": {},
   "outputs": [
    {
     "name": "stdout",
     "output_type": "stream",
     "text": [
      "              precision    recall  f1-score   support\n",
      "\n",
      "           0       0.89      0.92      0.91        26\n",
      "           1       0.91      0.88      0.89        24\n",
      "\n",
      "    accuracy                           0.90        50\n",
      "   macro avg       0.90      0.90      0.90        50\n",
      "weighted avg       0.90      0.90      0.90        50\n",
      "\n"
     ]
    }
   ],
   "source": [
    "print(classification_report(y, predictions))"
   ]
  }
 ],
 "metadata": {
  "kernelspec": {
   "display_name": "Python 3",
   "language": "python",
   "name": "python3"
  },
  "language_info": {
   "codemirror_mode": {
    "name": "ipython",
    "version": 3
   },
   "file_extension": ".py",
   "mimetype": "text/x-python",
   "name": "python",
   "nbconvert_exporter": "python",
   "pygments_lexer": "ipython3",
   "version": "3.7.5"
  }
 },
 "nbformat": 4,
 "nbformat_minor": 2
}
