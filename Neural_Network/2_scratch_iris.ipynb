{
 "cells": [
  {
   "cell_type": "markdown",
   "metadata": {},
   "source": [
    "# Neural Network with Backpropagation from Scratch for Iris dataset\n",
    "**[For theory, click here.](1_scratch_fake.ipynb)**"
   ]
  },
  {
   "cell_type": "markdown",
   "metadata": {},
   "source": [
    "## Load Data"
   ]
  },
  {
   "cell_type": "code",
   "execution_count": 1,
   "metadata": {},
   "outputs": [],
   "source": [
    "from sklearn.datasets import load_iris"
   ]
  },
  {
   "cell_type": "code",
   "execution_count": 2,
   "metadata": {},
   "outputs": [],
   "source": [
    "data = load_iris()"
   ]
  },
  {
   "cell_type": "code",
   "execution_count": 3,
   "metadata": {},
   "outputs": [
    {
     "name": "stdout",
     "output_type": "stream",
     "text": [
      ".. _iris_dataset:\n",
      "\n",
      "Iris plants dataset\n",
      "--------------------\n",
      "\n",
      "**Data Set Characteristics:**\n",
      "\n",
      "    :Number of Instances: 150 (50 in each of three classes)\n",
      "    :Number of Attributes: 4 numeric, predictive attributes and the class\n",
      "    :Attribute Information:\n",
      "        - sepal length in cm\n",
      "        - sepal width in cm\n",
      "        - petal length in cm\n",
      "        - petal width in cm\n",
      "        - class:\n",
      "                - Iris-Setosa\n",
      "                - Iris-Versicolour\n",
      "                - Iris-Virginica\n",
      "                \n",
      "    :Summary Statistics:\n",
      "\n",
      "    ============== ==== ==== ======= ===== ====================\n",
      "                    Min  Max   Mean    SD   Class Correlation\n",
      "    ============== ==== ==== ======= ===== ====================\n",
      "    sepal length:   4.3  7.9   5.84   0.83    0.7826\n",
      "    sepal width:    2.0  4.4   3.05   0.43   -0.4194\n",
      "    petal length:   1.0  6.9   3.76   1.76    0.9490  (high!)\n",
      "    petal width:    0.1  2.5   1.20   0.76    0.9565  (high!)\n",
      "    ============== ==== ==== ======= ===== ====================\n",
      "\n",
      "    :Missing Attribute Values: None\n",
      "    :Class Distribution: 33.3% for each of 3 classes.\n",
      "    :Creator: R.A. Fisher\n",
      "    :Donor: Michael Marshall (MARSHALL%PLU@io.arc.nasa.gov)\n",
      "    :Date: July, 1988\n",
      "\n",
      "The famous Iris database, first used by Sir R.A. Fisher. The dataset is taken\n",
      "from Fisher's paper. Note that it's the same as in R, but not as in the UCI\n",
      "Machine Learning Repository, which has two wrong data points.\n",
      "\n",
      "This is perhaps the best known database to be found in the\n",
      "pattern recognition literature.  Fisher's paper is a classic in the field and\n",
      "is referenced frequently to this day.  (See Duda & Hart, for example.)  The\n",
      "data set contains 3 classes of 50 instances each, where each class refers to a\n",
      "type of iris plant.  One class is linearly separable from the other 2; the\n",
      "latter are NOT linearly separable from each other.\n",
      "\n",
      ".. topic:: References\n",
      "\n",
      "   - Fisher, R.A. \"The use of multiple measurements in taxonomic problems\"\n",
      "     Annual Eugenics, 7, Part II, 179-188 (1936); also in \"Contributions to\n",
      "     Mathematical Statistics\" (John Wiley, NY, 1950).\n",
      "   - Duda, R.O., & Hart, P.E. (1973) Pattern Classification and Scene Analysis.\n",
      "     (Q327.D83) John Wiley & Sons.  ISBN 0-471-22361-1.  See page 218.\n",
      "   - Dasarathy, B.V. (1980) \"Nosing Around the Neighborhood: A New System\n",
      "     Structure and Classification Rule for Recognition in Partially Exposed\n",
      "     Environments\".  IEEE Transactions on Pattern Analysis and Machine\n",
      "     Intelligence, Vol. PAMI-2, No. 1, 67-71.\n",
      "   - Gates, G.W. (1972) \"The Reduced Nearest Neighbor Rule\".  IEEE Transactions\n",
      "     on Information Theory, May 1972, 431-433.\n",
      "   - See also: 1988 MLC Proceedings, 54-64.  Cheeseman et al\"s AUTOCLASS II\n",
      "     conceptual clustering system finds 3 classes in the data.\n",
      "   - Many, many more ...\n"
     ]
    }
   ],
   "source": [
    "print(data.DESCR)"
   ]
  },
  {
   "cell_type": "code",
   "execution_count": 4,
   "metadata": {},
   "outputs": [],
   "source": [
    "X = data.data\n",
    "y = data.target"
   ]
  },
  {
   "cell_type": "code",
   "execution_count": 5,
   "metadata": {},
   "outputs": [],
   "source": [
    "from sklearn.model_selection import train_test_split"
   ]
  },
  {
   "cell_type": "code",
   "execution_count": 6,
   "metadata": {},
   "outputs": [],
   "source": [
    "X_train, X_test, y_train, y_test = train_test_split(X, y, test_size=0.33, random_state=101)"
   ]
  },
  {
   "cell_type": "markdown",
   "metadata": {},
   "source": [
    "## Neural Network"
   ]
  },
  {
   "cell_type": "code",
   "execution_count": 7,
   "metadata": {},
   "outputs": [],
   "source": [
    "class Neuron:\n",
    "    def __init__(self, weights):\n",
    "        self.weights = weights\n",
    "        self.output = None\n",
    "        self.delta = None"
   ]
  },
  {
   "cell_type": "code",
   "execution_count": 8,
   "metadata": {},
   "outputs": [],
   "source": [
    "from random import seed, random"
   ]
  },
  {
   "cell_type": "code",
   "execution_count": 9,
   "metadata": {},
   "outputs": [],
   "source": [
    "def initialize_network(n_input, n_hidden, n_output):\n",
    "    seed(101)\n",
    "    network = []\n",
    "    network.append([Neuron([random() for _ in range(n_input+1)]) for _ in range(n_hidden)])\n",
    "    network.append([Neuron([random() for _ in range(n_hidden+1)]) for _ in range(n_output)])\n",
    "    return network"
   ]
  },
  {
   "cell_type": "code",
   "execution_count": 10,
   "metadata": {},
   "outputs": [],
   "source": [
    "def activate(neuron, inputs):\n",
    "    weights = neuron.weights\n",
    "    activation = weights[-1]\n",
    "    for i in range(len(weights)-1):\n",
    "        activation += weights[i]*inputs[i]\n",
    "    return activation"
   ]
  },
  {
   "cell_type": "code",
   "execution_count": 11,
   "metadata": {},
   "outputs": [],
   "source": [
    "from math import exp\n",
    "def transfer(activation):\n",
    "    return 1/(1+exp(-activation))"
   ]
  },
  {
   "cell_type": "code",
   "execution_count": 12,
   "metadata": {},
   "outputs": [],
   "source": [
    "def forward_propagate(network, inputs):\n",
    "    for layer in network:\n",
    "        new_inputs=[]\n",
    "        for neuron in layer:\n",
    "            activation = activate(neuron, inputs)\n",
    "            output = transfer(activation)\n",
    "            neuron.output = output\n",
    "            new_inputs.append(output)\n",
    "        inputs = new_inputs\n",
    "    return inputs"
   ]
  },
  {
   "cell_type": "code",
   "execution_count": 13,
   "metadata": {},
   "outputs": [],
   "source": [
    "def transfer_derivative(output):\n",
    "    return output*(1-output)"
   ]
  },
  {
   "cell_type": "code",
   "execution_count": 14,
   "metadata": {},
   "outputs": [],
   "source": [
    "def backward_propagate_error(network, expected):\n",
    "    for i in reversed(range(len(network))):\n",
    "        layer = network[i]\n",
    "        errors = []\n",
    "        if i == len(network)-1:\n",
    "            for j in range(len(layer)):\n",
    "                neuron = layer[j]\n",
    "                errors.append(expected[j]-neuron.output)\n",
    "        else:\n",
    "            for j in range(len(layer)):\n",
    "                error = 0\n",
    "                for neuron in network[i+1]:\n",
    "                    error += neuron.weights[j]*neuron.delta\n",
    "                errors.append(error)\n",
    "        for j in range(len(layer)):\n",
    "            neuron = layer[j]\n",
    "            neuron.delta = errors[j]*transfer_derivative(neuron.output)"
   ]
  },
  {
   "cell_type": "code",
   "execution_count": 15,
   "metadata": {},
   "outputs": [],
   "source": [
    "def update_weights(network, x, l_rate):\n",
    "    for i in range(len(network)):\n",
    "        inputs = x\n",
    "        if i != 0:\n",
    "            inputs = [neuron.output for neuron in network[i-1]]\n",
    "        for neuron in network[i]:\n",
    "            for j in range(len(inputs)):\n",
    "                neuron.weights[j] += l_rate*neuron.delta*inputs[j]\n",
    "            neuron.weights[-1] += l_rate*neuron.delta"
   ]
  },
  {
   "cell_type": "code",
   "execution_count": 16,
   "metadata": {},
   "outputs": [],
   "source": [
    "def fit(network, X, y, l_rate, n_epoch, n_output):\n",
    "    errors = []\n",
    "    for epoch in range(n_epoch):\n",
    "        sum_error = 0\n",
    "        for i in range(len(X)):\n",
    "            outputs = forward_propagate(network, X[i])\n",
    "            expected = [0 for _ in range(n_output)]\n",
    "            expected[y[i]] = 1\n",
    "            sum_error += sum((expected[i]-outputs[i])**2 for i in range(n_output))\n",
    "            backward_propagate_error(network,expected)\n",
    "            update_weights(network, X[i], l_rate)\n",
    "        errors.append(sum_error)\n",
    "        print('epoch=%2d => error=%.3f' % (epoch+1, sum_error))\n",
    "    return errors"
   ]
  },
  {
   "cell_type": "code",
   "execution_count": 17,
   "metadata": {},
   "outputs": [
    {
     "name": "stdout",
     "output_type": "stream",
     "text": [
      "epoch= 1 => error=137.350\n",
      "epoch= 2 => error=73.188\n",
      "epoch= 3 => error=51.727\n",
      "epoch= 4 => error=41.574\n",
      "epoch= 5 => error=37.373\n",
      "epoch= 6 => error=35.295\n",
      "epoch= 7 => error=33.862\n",
      "epoch= 8 => error=32.639\n",
      "epoch= 9 => error=31.534\n",
      "epoch=10 => error=30.465\n",
      "epoch=11 => error=29.303\n",
      "epoch=12 => error=28.051\n",
      "epoch=13 => error=26.736\n",
      "epoch=14 => error=25.326\n",
      "epoch=15 => error=23.779\n",
      "epoch=16 => error=22.092\n",
      "epoch=17 => error=20.384\n",
      "epoch=18 => error=19.120\n",
      "epoch=19 => error=17.921\n",
      "epoch=20 => error=17.357\n",
      "epoch=21 => error=17.117\n",
      "epoch=22 => error=17.547\n",
      "epoch=23 => error=17.061\n",
      "epoch=24 => error=17.121\n",
      "epoch=25 => error=16.538\n",
      "epoch=26 => error=16.403\n",
      "epoch=27 => error=15.476\n",
      "epoch=28 => error=18.643\n",
      "epoch=29 => error=15.391\n",
      "epoch=30 => error=15.240\n",
      "epoch=31 => error=13.685\n",
      "epoch=32 => error=16.486\n",
      "epoch=33 => error=19.241\n",
      "epoch=34 => error=10.366\n",
      "epoch=35 => error=11.784\n",
      "epoch=36 => error=11.093\n",
      "epoch=37 => error=11.627\n",
      "epoch=38 => error=12.233\n",
      "epoch=39 => error=17.935\n",
      "epoch=40 => error=14.765\n",
      "epoch=41 => error=18.247\n",
      "epoch=42 => error=12.847\n",
      "epoch=43 => error=11.760\n",
      "epoch=44 => error=11.564\n",
      "epoch=45 => error=11.411\n",
      "epoch=46 => error=12.520\n",
      "epoch=47 => error=14.436\n",
      "epoch=48 => error=15.135\n",
      "epoch=49 => error=14.602\n",
      "epoch=50 => error=14.720\n",
      "epoch=51 => error=16.242\n",
      "epoch=52 => error=12.046\n",
      "epoch=53 => error=13.272\n",
      "epoch=54 => error=11.173\n",
      "epoch=55 => error=14.829\n",
      "epoch=56 => error=10.871\n",
      "epoch=57 => error=14.197\n",
      "epoch=58 => error=13.069\n",
      "epoch=59 => error=17.106\n",
      "epoch=60 => error=9.388\n",
      "epoch=61 => error=9.619\n",
      "epoch=62 => error=10.080\n",
      "epoch=63 => error=10.407\n",
      "epoch=64 => error=11.335\n",
      "epoch=65 => error=10.481\n",
      "epoch=66 => error=10.171\n",
      "epoch=67 => error=9.337\n",
      "epoch=68 => error=11.932\n",
      "epoch=69 => error=9.488\n",
      "epoch=70 => error=8.159\n",
      "epoch=71 => error=9.467\n",
      "epoch=72 => error=9.506\n",
      "epoch=73 => error=7.841\n",
      "epoch=74 => error=9.285\n",
      "epoch=75 => error=8.963\n",
      "epoch=76 => error=8.604\n",
      "epoch=77 => error=8.207\n",
      "epoch=78 => error=9.984\n",
      "epoch=79 => error=8.102\n",
      "epoch=80 => error=8.362\n",
      "epoch=81 => error=8.333\n",
      "epoch=82 => error=8.345\n",
      "epoch=83 => error=7.537\n",
      "epoch=84 => error=8.676\n",
      "epoch=85 => error=10.318\n",
      "epoch=86 => error=8.135\n",
      "epoch=87 => error=8.214\n",
      "epoch=88 => error=8.261\n",
      "epoch=89 => error=9.373\n",
      "epoch=90 => error=10.743\n",
      "epoch=91 => error=13.334\n",
      "epoch=92 => error=7.851\n",
      "epoch=93 => error=5.811\n",
      "epoch=94 => error=6.705\n",
      "epoch=95 => error=8.235\n",
      "epoch=96 => error=7.911\n",
      "epoch=97 => error=7.574\n",
      "epoch=98 => error=7.277\n",
      "epoch=99 => error=8.583\n",
      "epoch=100 => error=9.446\n"
     ]
    }
   ],
   "source": [
    "n_inputs = len(X_train[0])\n",
    "n_outputs = len(set(y_train))\n",
    "n_epoch = 100\n",
    "l_rate = 0.3\n",
    "network = initialize_network(n_inputs, 8, n_outputs)\n",
    "errors = fit(network, X_train, y_train, l_rate, n_epoch, n_outputs)"
   ]
  },
  {
   "cell_type": "code",
   "execution_count": 23,
   "metadata": {},
   "outputs": [
    {
     "data": {
      "text/plain": [
       "[<matplotlib.lines.Line2D at 0x7f1a4e09c350>]"
      ]
     },
     "execution_count": 23,
     "metadata": {},
     "output_type": "execute_result"
    },
    {
     "data": {
      "image/png": "[encoded data removed]",
      "text/plain": [
       "<Figure size 432x288 with 1 Axes>"
      ]
     },
     "metadata": {
      "needs_background": "light"
     },
     "output_type": "display_data"
    }
   ],
   "source": [
    "import matplotlib.pyplot as plt\n",
    "plt.plot(range(n_epoch), errors)"
   ]
  },
  {
   "cell_type": "markdown",
   "metadata": {},
   "source": [
    "## Make Prediction"
   ]
  },
  {
   "cell_type": "code",
   "execution_count": 19,
   "metadata": {},
   "outputs": [],
   "source": [
    "def predict_one(network, x):\n",
    "    outputs = forward_propagate(network, x)\n",
    "    return outputs.index(max(outputs))"
   ]
  },
  {
   "cell_type": "code",
   "execution_count": 20,
   "metadata": {},
   "outputs": [],
   "source": [
    "pred = [predict_one(network, x) for x in X_test]"
   ]
  },
  {
   "cell_type": "code",
   "execution_count": 21,
   "metadata": {},
   "outputs": [],
   "source": [
    "from sklearn.metrics import classification_report, confusion_matrix"
   ]
  },
  {
   "cell_type": "code",
   "execution_count": 22,
   "metadata": {},
   "outputs": [
    {
     "name": "stdout",
     "output_type": "stream",
     "text": [
      "[[15  0  0]\n",
      " [ 0 22  0]\n",
      " [ 0  0 13]]\n",
      "              precision    recall  f1-score   support\n",
      "\n",
      "           0       1.00      1.00      1.00        15\n",
      "           1       1.00      1.00      1.00        22\n",
      "           2       1.00      1.00      1.00        13\n",
      "\n",
      "    accuracy                           1.00        50\n",
      "   macro avg       1.00      1.00      1.00        50\n",
      "weighted avg       1.00      1.00      1.00        50\n",
      "\n"
     ]
    }
   ],
   "source": [
    "print(confusion_matrix(y_test, pred))\n",
    "print(classification_report(y_test, pred))"
   ]
  },
  {
   "cell_type": "markdown",
   "metadata": {},
   "source": [
    "## PERFECT!"
   ]
  }
 ],
 "metadata": {
  "kernelspec": {
   "display_name": "Python 3",
   "language": "python",
   "name": "python3"
  },
  "language_info": {
   "codemirror_mode": {
    "name": "ipython",
    "version": 3
   },
   "file_extension": ".py",
   "mimetype": "text/x-python",
   "name": "python",
   "nbconvert_exporter": "python",
   "pygments_lexer": "ipython3",
   "version": "3.7.5"
  }
 },
 "nbformat": 4,
 "nbformat_minor": 2
}
