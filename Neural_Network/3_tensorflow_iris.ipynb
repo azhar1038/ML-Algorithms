{
 "cells": [
  {
   "cell_type": "markdown",
   "metadata": {},
   "source": [
    "# Neural Network for Iris dataset using Keras (Tensorflow 2.0)\n",
    "**[For theory and scratch implementation, click here.](1_scratch_fake.ipynb)**"
   ]
  },
  {
   "cell_type": "markdown",
   "metadata": {},
   "source": [
    "## Load Data"
   ]
  },
  {
   "cell_type": "code",
   "execution_count": 1,
   "metadata": {},
   "outputs": [],
   "source": [
    "from sklearn.datasets import load_iris"
   ]
  },
  {
   "cell_type": "code",
   "execution_count": 2,
   "metadata": {},
   "outputs": [],
   "source": [
    "data = load_iris()"
   ]
  },
  {
   "cell_type": "code",
   "execution_count": 3,
   "metadata": {},
   "outputs": [
    {
     "name": "stdout",
     "output_type": "stream",
     "text": [
      ".. _iris_dataset:\n",
      "\n",
      "Iris plants dataset\n",
      "--------------------\n",
      "\n",
      "**Data Set Characteristics:**\n",
      "\n",
      "    :Number of Instances: 150 (50 in each of three classes)\n",
      "    :Number of Attributes: 4 numeric, predictive attributes and the class\n",
      "    :Attribute Information:\n",
      "        - sepal length in cm\n",
      "        - sepal width in cm\n",
      "        - petal length in cm\n",
      "        - petal width in cm\n",
      "        - class:\n",
      "                - Iris-Setosa\n",
      "                - Iris-Versicolour\n",
      "                - Iris-Virginica\n",
      "                \n",
      "    :Summary Statistics:\n",
      "\n",
      "    ============== ==== ==== ======= ===== ====================\n",
      "                    Min  Max   Mean    SD   Class Correlation\n",
      "    ============== ==== ==== ======= ===== ====================\n",
      "    sepal length:   4.3  7.9   5.84   0.83    0.7826\n",
      "    sepal width:    2.0  4.4   3.05   0.43   -0.4194\n",
      "    petal length:   1.0  6.9   3.76   1.76    0.9490  (high!)\n",
      "    petal width:    0.1  2.5   1.20   0.76    0.9565  (high!)\n",
      "    ============== ==== ==== ======= ===== ====================\n",
      "\n",
      "    :Missing Attribute Values: None\n",
      "    :Class Distribution: 33.3% for each of 3 classes.\n",
      "    :Creator: R.A. Fisher\n",
      "    :Donor: Michael Marshall (MARSHALL%PLU@io.arc.nasa.gov)\n",
      "    :Date: July, 1988\n",
      "\n",
      "The famous Iris database, first used by Sir R.A. Fisher. The dataset is taken\n",
      "from Fisher's paper. Note that it's the same as in R, but not as in the UCI\n",
      "Machine Learning Repository, which has two wrong data points.\n",
      "\n",
      "This is perhaps the best known database to be found in the\n",
      "pattern recognition literature.  Fisher's paper is a classic in the field and\n",
      "is referenced frequently to this day.  (See Duda & Hart, for example.)  The\n",
      "data set contains 3 classes of 50 instances each, where each class refers to a\n",
      "type of iris plant.  One class is linearly separable from the other 2; the\n",
      "latter are NOT linearly separable from each other.\n",
      "\n",
      ".. topic:: References\n",
      "\n",
      "   - Fisher, R.A. \"The use of multiple measurements in taxonomic problems\"\n",
      "     Annual Eugenics, 7, Part II, 179-188 (1936); also in \"Contributions to\n",
      "     Mathematical Statistics\" (John Wiley, NY, 1950).\n",
      "   - Duda, R.O., & Hart, P.E. (1973) Pattern Classification and Scene Analysis.\n",
      "     (Q327.D83) John Wiley & Sons.  ISBN 0-471-22361-1.  See page 218.\n",
      "   - Dasarathy, B.V. (1980) \"Nosing Around the Neighborhood: A New System\n",
      "     Structure and Classification Rule for Recognition in Partially Exposed\n",
      "     Environments\".  IEEE Transactions on Pattern Analysis and Machine\n",
      "     Intelligence, Vol. PAMI-2, No. 1, 67-71.\n",
      "   - Gates, G.W. (1972) \"The Reduced Nearest Neighbor Rule\".  IEEE Transactions\n",
      "     on Information Theory, May 1972, 431-433.\n",
      "   - See also: 1988 MLC Proceedings, 54-64.  Cheeseman et al\"s AUTOCLASS II\n",
      "     conceptual clustering system finds 3 classes in the data.\n",
      "   - Many, many more ...\n"
     ]
    }
   ],
   "source": [
    "print(data.DESCR)"
   ]
  },
  {
   "cell_type": "code",
   "execution_count": 45,
   "metadata": {},
   "outputs": [],
   "source": [
    "import numpy as np\n",
    "X = data.data\n",
    "y = data.target"
   ]
  },
  {
   "cell_type": "code",
   "execution_count": 46,
   "metadata": {},
   "outputs": [],
   "source": [
    "from sklearn.model_selection import train_test_split"
   ]
  },
  {
   "cell_type": "code",
   "execution_count": 47,
   "metadata": {},
   "outputs": [],
   "source": [
    "X_train, X_test, y_train, y_test = train_test_split(X, y, test_size=0.33, random_state=101)"
   ]
  },
  {
   "cell_type": "markdown",
   "metadata": {},
   "source": [
    "## Neural Network"
   ]
  },
  {
   "cell_type": "code",
   "execution_count": 31,
   "metadata": {},
   "outputs": [],
   "source": [
    "from tensorflow.keras import Sequential\n",
    "from tensorflow.keras.layers import Dense\n",
    "from tensorflow.keras.optimizers import SGD"
   ]
  },
  {
   "cell_type": "code",
   "execution_count": 112,
   "metadata": {},
   "outputs": [
    {
     "name": "stdout",
     "output_type": "stream",
     "text": [
      "Model: \"sequential_15\"\n",
      "_________________________________________________________________\n",
      "Layer (type)                 Output Shape              Param #   \n",
      "=================================================================\n",
      "dense_27 (Dense)             (None, 8)                 40        \n",
      "_________________________________________________________________\n",
      "dense_28 (Dense)             (None, 3)                 27        \n",
      "=================================================================\n",
      "Total params: 67\n",
      "Trainable params: 67\n",
      "Non-trainable params: 0\n",
      "_________________________________________________________________\n"
     ]
    }
   ],
   "source": [
    "n_inputs = len(X_train[0])\n",
    "n_outputs = len(set(y_train))\n",
    "n_epoch = 50\n",
    "l_rate = 0.1\n",
    "model = Sequential()\n",
    "model.add(Dense(8, activation=\"sigmoid\", input_shape=(n_inputs,)))\n",
    "model.add(Dense(n_outputs, activation=\"sigmoid\"))\n",
    "model.compile(loss=\"mean_squared_error\", optimizer=SGD(learning_rate=l_rate))\n",
    "model.summary()"
   ]
  },
  {
   "cell_type": "code",
   "execution_count": 113,
   "metadata": {},
   "outputs": [
    {
     "name": "stdout",
     "output_type": "stream",
     "text": [
      "Train on 95 samples, validate on 5 samples\n",
      "Epoch 1/50\n",
      "95/95 [==============================] - 1s 9ms/sample - loss: 0.2012 - val_loss: 0.2114\n",
      "Epoch 2/50\n",
      "95/95 [==============================] - 0s 4ms/sample - loss: 0.1696 - val_loss: 0.2037\n",
      "Epoch 3/50\n",
      "95/95 [==============================] - 0s 4ms/sample - loss: 0.1501 - val_loss: 0.2133\n",
      "Epoch 4/50\n",
      "95/95 [==============================] - 0s 4ms/sample - loss: 0.1376 - val_loss: 0.2125\n",
      "Epoch 5/50\n",
      "95/95 [==============================] - 0s 4ms/sample - loss: 0.1280 - val_loss: 0.2152\n",
      "Epoch 6/50\n",
      "95/95 [==============================] - 0s 4ms/sample - loss: 0.1213 - val_loss: 0.2093\n",
      "Epoch 7/50\n",
      "95/95 [==============================] - 0s 4ms/sample - loss: 0.1168 - val_loss: 0.2082\n",
      "Epoch 8/50\n",
      "95/95 [==============================] - 0s 4ms/sample - loss: 0.1133 - val_loss: 0.2090\n",
      "Epoch 9/50\n",
      "95/95 [==============================] - 0s 4ms/sample - loss: 0.1104 - val_loss: 0.2107\n",
      "Epoch 10/50\n",
      "95/95 [==============================] - 0s 4ms/sample - loss: 0.1083 - val_loss: 0.2096\n",
      "Epoch 11/50\n",
      "95/95 [==============================] - 0s 4ms/sample - loss: 0.1060 - val_loss: 0.2121\n",
      "Epoch 12/50\n",
      "95/95 [==============================] - 0s 4ms/sample - loss: 0.1044 - val_loss: 0.1986\n",
      "Epoch 13/50\n",
      "95/95 [==============================] - 0s 4ms/sample - loss: 0.1029 - val_loss: 0.2042\n",
      "Epoch 14/50\n",
      "95/95 [==============================] - 0s 4ms/sample - loss: 0.1014 - val_loss: 0.2010\n",
      "Epoch 15/50\n",
      "95/95 [==============================] - 0s 4ms/sample - loss: 0.0998 - val_loss: 0.1902\n",
      "Epoch 16/50\n",
      "95/95 [==============================] - 0s 4ms/sample - loss: 0.0987 - val_loss: 0.2027\n",
      "Epoch 17/50\n",
      "95/95 [==============================] - 0s 4ms/sample - loss: 0.0975 - val_loss: 0.1918\n",
      "Epoch 18/50\n",
      "95/95 [==============================] - 0s 4ms/sample - loss: 0.0964 - val_loss: 0.1918\n",
      "Epoch 19/50\n",
      "95/95 [==============================] - 0s 4ms/sample - loss: 0.0949 - val_loss: 0.1838\n",
      "Epoch 20/50\n",
      "95/95 [==============================] - 0s 4ms/sample - loss: 0.0937 - val_loss: 0.1882\n",
      "Epoch 21/50\n",
      "95/95 [==============================] - 0s 4ms/sample - loss: 0.0921 - val_loss: 0.1916\n",
      "Epoch 22/50\n",
      "95/95 [==============================] - 0s 5ms/sample - loss: 0.0916 - val_loss: 0.1872\n",
      "Epoch 23/50\n",
      "95/95 [==============================] - 0s 4ms/sample - loss: 0.0901 - val_loss: 0.1743\n",
      "Epoch 24/50\n",
      "95/95 [==============================] - 0s 4ms/sample - loss: 0.0896 - val_loss: 0.1744\n",
      "Epoch 25/50\n",
      "95/95 [==============================] - 0s 4ms/sample - loss: 0.0875 - val_loss: 0.1907\n",
      "Epoch 26/50\n",
      "95/95 [==============================] - 0s 4ms/sample - loss: 0.0865 - val_loss: 0.1807\n",
      "Epoch 27/50\n",
      "95/95 [==============================] - 0s 5ms/sample - loss: 0.0858 - val_loss: 0.1644\n",
      "Epoch 28/50\n",
      "95/95 [==============================] - 0s 4ms/sample - loss: 0.0844 - val_loss: 0.1655\n",
      "Epoch 29/50\n",
      "95/95 [==============================] - 0s 4ms/sample - loss: 0.0835 - val_loss: 0.1721\n",
      "Epoch 30/50\n",
      "95/95 [==============================] - 0s 4ms/sample - loss: 0.0818 - val_loss: 0.1877\n",
      "Epoch 31/50\n",
      "95/95 [==============================] - 0s 4ms/sample - loss: 0.0813 - val_loss: 0.1541\n",
      "Epoch 32/50\n",
      "95/95 [==============================] - 0s 4ms/sample - loss: 0.0792 - val_loss: 0.1517\n",
      "Epoch 33/50\n",
      "95/95 [==============================] - 0s 4ms/sample - loss: 0.0770 - val_loss: 0.1328\n",
      "Epoch 34/50\n",
      "95/95 [==============================] - 0s 4ms/sample - loss: 0.0769 - val_loss: 0.1329\n",
      "Epoch 35/50\n",
      "95/95 [==============================] - 0s 4ms/sample - loss: 0.0762 - val_loss: 0.1742\n",
      "Epoch 36/50\n",
      "95/95 [==============================] - 0s 4ms/sample - loss: 0.0747 - val_loss: 0.1312\n",
      "Epoch 37/50\n",
      "95/95 [==============================] - 0s 4ms/sample - loss: 0.0737 - val_loss: 0.1449\n",
      "Epoch 38/50\n",
      "95/95 [==============================] - 0s 4ms/sample - loss: 0.0717 - val_loss: 0.1457\n",
      "Epoch 39/50\n",
      "95/95 [==============================] - 0s 4ms/sample - loss: 0.0706 - val_loss: 0.1367\n",
      "Epoch 40/50\n",
      "95/95 [==============================] - 0s 4ms/sample - loss: 0.0685 - val_loss: 0.1254\n",
      "Epoch 41/50\n",
      "95/95 [==============================] - 0s 4ms/sample - loss: 0.0681 - val_loss: 0.1619\n",
      "Epoch 42/50\n",
      "95/95 [==============================] - 0s 4ms/sample - loss: 0.0656 - val_loss: 0.1074\n",
      "Epoch 43/50\n",
      "95/95 [==============================] - 0s 4ms/sample - loss: 0.0656 - val_loss: 0.1620\n",
      "Epoch 44/50\n",
      "95/95 [==============================] - 0s 4ms/sample - loss: 0.0616 - val_loss: 0.0838\n",
      "Epoch 45/50\n",
      "95/95 [==============================] - 0s 5ms/sample - loss: 0.0638 - val_loss: 0.1260\n",
      "Epoch 46/50\n",
      "95/95 [==============================] - 0s 5ms/sample - loss: 0.0618 - val_loss: 0.1488\n",
      "Epoch 47/50\n",
      "95/95 [==============================] - 0s 4ms/sample - loss: 0.0606 - val_loss: 0.1201\n",
      "Epoch 48/50\n",
      "95/95 [==============================] - 0s 4ms/sample - loss: 0.0606 - val_loss: 0.1550\n",
      "Epoch 49/50\n",
      "95/95 [==============================] - 0s 4ms/sample - loss: 0.0572 - val_loss: 0.1526\n",
      "Epoch 50/50\n",
      "95/95 [==============================] - 0s 4ms/sample - loss: 0.0558 - val_loss: 0.0967\n"
     ]
    },
    {
     "data": {
      "text/plain": [
       "<tensorflow.python.keras.callbacks.History at 0x7efe1442a850>"
      ]
     },
     "execution_count": 113,
     "metadata": {},
     "output_type": "execute_result"
    }
   ],
   "source": [
    "y_o = np.zeros((len(y_train), n_outputs))\n",
    "for i in range(len(y_train)):\n",
    "    y_o[i][y_train[i]] = 1\n",
    "model.fit(X_train, y_o, epochs=n_epoch, batch_size=1, validation_split=0.05)"
   ]
  },
  {
   "cell_type": "code",
   "execution_count": 114,
   "metadata": {},
   "outputs": [],
   "source": [
    "history = model.history.history"
   ]
  },
  {
   "cell_type": "code",
   "execution_count": 115,
   "metadata": {},
   "outputs": [],
   "source": [
    "import matplotlib.pyplot as plt"
   ]
  },
  {
   "cell_type": "code",
   "execution_count": 116,
   "metadata": {},
   "outputs": [
    {
     "data": {
      "text/plain": [
       "[<matplotlib.lines.Line2D at 0x7efe151b38d0>]"
      ]
     },
     "execution_count": 116,
     "metadata": {},
     "output_type": "execute_result"
    },
    {
     "data": {
      "image/png": "[encoded data removed]",
      "text/plain": [
       "<Figure size 432x288 with 1 Axes>"
      ]
     },
     "metadata": {
      "needs_background": "light"
     },
     "output_type": "display_data"
    }
   ],
   "source": [
    "plt.plot(history['loss'])\n",
    "plt.plot(history['val_loss'])"
   ]
  },
  {
   "cell_type": "code",
   "execution_count": 117,
   "metadata": {},
   "outputs": [],
   "source": [
    "predictions = model.predict_classes(X_test)"
   ]
  },
  {
   "cell_type": "code",
   "execution_count": 118,
   "metadata": {},
   "outputs": [],
   "source": [
    "from sklearn.metrics import classification_report,confusion_matrix"
   ]
  },
  {
   "cell_type": "code",
   "execution_count": 119,
   "metadata": {},
   "outputs": [
    {
     "name": "stdout",
     "output_type": "stream",
     "text": [
      "[[15  0  0]\n",
      " [ 0 22  0]\n",
      " [ 0  1 12]]\n",
      "              precision    recall  f1-score   support\n",
      "\n",
      "           0       1.00      1.00      1.00        15\n",
      "           1       0.96      1.00      0.98        22\n",
      "           2       1.00      0.92      0.96        13\n",
      "\n",
      "    accuracy                           0.98        50\n",
      "   macro avg       0.99      0.97      0.98        50\n",
      "weighted avg       0.98      0.98      0.98        50\n",
      "\n"
     ]
    }
   ],
   "source": [
    "print(confusion_matrix(y_test, predictions))\n",
    "print(classification_report(y_test, predictions))"
   ]
  },
  {
   "cell_type": "markdown",
   "metadata": {},
   "source": [
    "## Needs Hyperparametric Tuning!"
   ]
  }
 ],
 "metadata": {
  "kernelspec": {
   "display_name": "Python 3",
   "language": "python",
   "name": "python3"
  },
  "language_info": {
   "codemirror_mode": {
    "name": "ipython",
    "version": 3
   },
   "file_extension": ".py",
   "mimetype": "text/x-python",
   "name": "python",
   "nbconvert_exporter": "python",
   "pygments_lexer": "ipython3",
   "version": "3.7.5"
  }
 },
 "nbformat": 4,
 "nbformat_minor": 2
}
