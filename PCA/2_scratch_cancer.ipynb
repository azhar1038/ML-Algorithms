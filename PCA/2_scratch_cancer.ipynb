{
 "cells": [
  {
   "cell_type": "markdown",
   "metadata": {},
   "source": [
    "# Principal Component Analysis(PCA) from scratch\n",
    "**[Click here for Theory](./1_scratch_fake.ipynb)**"
   ]
  },
  {
   "cell_type": "markdown",
   "metadata": {},
   "source": [
    "## Loading data"
   ]
  },
  {
   "cell_type": "code",
   "execution_count": 1,
   "metadata": {},
   "outputs": [],
   "source": [
    "from sklearn.datasets import load_breast_cancer\n",
    "cancer = load_breast_cancer()"
   ]
  },
  {
   "cell_type": "code",
   "execution_count": 2,
   "metadata": {},
   "outputs": [
    {
     "data": {
      "text/plain": [
       "dict_keys(['data', 'target', 'target_names', 'DESCR', 'feature_names', 'filename'])"
      ]
     },
     "execution_count": 2,
     "metadata": {},
     "output_type": "execute_result"
    }
   ],
   "source": [
    "cancer.keys()"
   ]
  },
  {
   "cell_type": "code",
   "execution_count": 3,
   "metadata": {},
   "outputs": [
    {
     "name": "stdout",
     "output_type": "stream",
     "text": [
      ".. _breast_cancer_dataset:\n",
      "\n",
      "Breast cancer wisconsin (diagnostic) dataset\n",
      "--------------------------------------------\n",
      "\n",
      "**Data Set Characteristics:**\n",
      "\n",
      "    :Number of Instances: 569\n",
      "\n",
      "    :Number of Attributes: 30 numeric, predictive attributes and the class\n",
      "\n",
      "    :Attribute Information:\n",
      "        - radius (mean of distances from center to points on the perimeter)\n",
      "        - texture (standard deviation of gray-scale values)\n",
      "        - perimeter\n",
      "        - area\n",
      "        - smoothness (local variation in radius lengths)\n",
      "        - compactness (perimeter^2 / area - 1.0)\n",
      "        - concavity (severity of concave portions of the contour)\n",
      "        - concave points (number of concave portions of the contour)\n",
      "        - symmetry \n",
      "        - fractal dimension (\"coastline approximation\" - 1)\n",
      "\n",
      "        The mean, standard error, and \"worst\" or largest (mean of the three\n",
      "        largest values) of these features were computed for each image,\n",
      "        resulting in 30 features.  For instance, field 3 is Mean Radius, field\n",
      "        13 is Radius SE, field 23 is Worst Radius.\n",
      "\n",
      "        - class:\n",
      "                - WDBC-Malignant\n",
      "                - WDBC-Benign\n",
      "\n",
      "    :Summary Statistics:\n",
      "\n",
      "    ===================================== ====== ======\n",
      "                                           Min    Max\n",
      "    ===================================== ====== ======\n",
      "    radius (mean):                        6.981  28.11\n",
      "    texture (mean):                       9.71   39.28\n",
      "    perimeter (mean):                     43.79  188.5\n",
      "    area (mean):                          143.5  2501.0\n",
      "    smoothness (mean):                    0.053  0.163\n",
      "    compactness (mean):                   0.019  0.345\n",
      "    concavity (mean):                     0.0    0.427\n",
      "    concave points (mean):                0.0    0.201\n",
      "    symmetry (mean):                      0.106  0.304\n",
      "    fractal dimension (mean):             0.05   0.097\n",
      "    radius (standard error):              0.112  2.873\n",
      "    texture (standard error):             0.36   4.885\n",
      "    perimeter (standard error):           0.757  21.98\n",
      "    area (standard error):                6.802  542.2\n",
      "    smoothness (standard error):          0.002  0.031\n",
      "    compactness (standard error):         0.002  0.135\n",
      "    concavity (standard error):           0.0    0.396\n",
      "    concave points (standard error):      0.0    0.053\n",
      "    symmetry (standard error):            0.008  0.079\n",
      "    fractal dimension (standard error):   0.001  0.03\n",
      "    radius (worst):                       7.93   36.04\n",
      "    texture (worst):                      12.02  49.54\n",
      "    perimeter (worst):                    50.41  251.2\n",
      "    area (worst):                         185.2  4254.0\n",
      "    smoothness (worst):                   0.071  0.223\n",
      "    compactness (worst):                  0.027  1.058\n",
      "    concavity (worst):                    0.0    1.252\n",
      "    concave points (worst):               0.0    0.291\n",
      "    symmetry (worst):                     0.156  0.664\n",
      "    fractal dimension (worst):            0.055  0.208\n",
      "    ===================================== ====== ======\n",
      "\n",
      "    :Missing Attribute Values: None\n",
      "\n",
      "    :Class Distribution: 212 - Malignant, 357 - Benign\n",
      "\n",
      "    :Creator:  Dr. William H. Wolberg, W. Nick Street, Olvi L. Mangasarian\n",
      "\n",
      "    :Donor: Nick Street\n",
      "\n",
      "    :Date: November, 1995\n",
      "\n",
      "This is a copy of UCI ML Breast Cancer Wisconsin (Diagnostic) datasets.\n",
      "https://goo.gl/U2Uwz2\n",
      "\n",
      "Features are computed from a digitized image of a fine needle\n",
      "aspirate (FNA) of a breast mass.  They describe\n",
      "characteristics of the cell nuclei present in the image.\n",
      "\n",
      "Separating plane described above was obtained using\n",
      "Multisurface Method-Tree (MSM-T) [K. P. Bennett, \"Decision Tree\n",
      "Construction Via Linear Programming.\" Proceedings of the 4th\n",
      "Midwest Artificial Intelligence and Cognitive Science Society,\n",
      "pp. 97-101, 1992], a classification method which uses linear\n",
      "programming to construct a decision tree.  Relevant features\n",
      "were selected using an exhaustive search in the space of 1-4\n",
      "features and 1-3 separating planes.\n",
      "\n",
      "The actual linear program used to obtain the separating plane\n",
      "in the 3-dimensional space is that described in:\n",
      "[K. P. Bennett and O. L. Mangasarian: \"Robust Linear\n",
      "Programming Discrimination of Two Linearly Inseparable Sets\",\n",
      "Optimization Methods and Software 1, 1992, 23-34].\n",
      "\n",
      "This database is also available through the UW CS ftp server:\n",
      "\n",
      "ftp ftp.cs.wisc.edu\n",
      "cd math-prog/cpo-dataset/machine-learn/WDBC/\n",
      "\n",
      ".. topic:: References\n",
      "\n",
      "   - W.N. Street, W.H. Wolberg and O.L. Mangasarian. Nuclear feature extraction \n",
      "     for breast tumor diagnosis. IS&T/SPIE 1993 International Symposium on \n",
      "     Electronic Imaging: Science and Technology, volume 1905, pages 861-870,\n",
      "     San Jose, CA, 1993.\n",
      "   - O.L. Mangasarian, W.N. Street and W.H. Wolberg. Breast cancer diagnosis and \n",
      "     prognosis via linear programming. Operations Research, 43(4), pages 570-577, \n",
      "     July-August 1995.\n",
      "   - W.H. Wolberg, W.N. Street, and O.L. Mangasarian. Machine learning techniques\n",
      "     to diagnose breast cancer from fine-needle aspirates. Cancer Letters 77 (1994) \n",
      "     163-171.\n"
     ]
    }
   ],
   "source": [
    "print(cancer.DESCR)"
   ]
  },
  {
   "cell_type": "code",
   "execution_count": 4,
   "metadata": {},
   "outputs": [
    {
     "data": {
      "text/plain": [
       "(569, 30)"
      ]
     },
     "execution_count": 4,
     "metadata": {},
     "output_type": "execute_result"
    }
   ],
   "source": [
    "A = cancer.data\n",
    "A.shape"
   ]
  },
  {
   "cell_type": "markdown",
   "metadata": {},
   "source": [
    "## Performing PCA"
   ]
  },
  {
   "cell_type": "code",
   "execution_count": 5,
   "metadata": {},
   "outputs": [],
   "source": [
    "import numpy as np"
   ]
  },
  {
   "cell_type": "code",
   "execution_count": 6,
   "metadata": {},
   "outputs": [],
   "source": [
    "M = np.mean(A, axis=0)"
   ]
  },
  {
   "cell_type": "code",
   "execution_count": 7,
   "metadata": {},
   "outputs": [],
   "source": [
    "C = A - M"
   ]
  },
  {
   "cell_type": "code",
   "execution_count": 8,
   "metadata": {},
   "outputs": [],
   "source": [
    "V = np.cov(C.T)"
   ]
  },
  {
   "cell_type": "code",
   "execution_count": 9,
   "metadata": {},
   "outputs": [],
   "source": [
    "eig_val, eig_vec = np.linalg.eig(V)"
   ]
  },
  {
   "cell_type": "code",
   "execution_count": 10,
   "metadata": {},
   "outputs": [
    {
     "name": "stdout",
     "output_type": "stream",
     "text": [
      "Eigen Values:\n",
      "[4.43782605e+05 7.31010006e+03 7.03833742e+02 5.46487379e+01\n",
      " 3.98900178e+01 3.00458768e+00 1.81533030e+00 3.71466740e-01\n",
      " 1.55513547e-01 8.40612196e-02 3.16089533e-02 7.49736514e-03\n",
      " 3.16165652e-03 2.16150395e-03 1.32653879e-03 6.40269304e-04\n",
      " 3.74883320e-04 2.35169626e-04 1.84583467e-04 1.64180064e-04\n",
      " 7.81102011e-05 5.76111660e-05 3.49172775e-05 2.83952689e-05\n",
      " 1.61463677e-05 1.24902419e-05 7.01997261e-07 3.68048171e-06\n",
      " 2.84790425e-06 2.00491564e-06]\n",
      "\n",
      "Number of eigen values: 30\n"
     ]
    }
   ],
   "source": [
    "print(\"Eigen Values:\")\n",
    "print(eig_val)\n",
    "print(\"\\nNumber of eigen values: %d\"%eig_val.shape[0])"
   ]
  },
  {
   "cell_type": "code",
   "execution_count": 11,
   "metadata": {},
   "outputs": [
    {
     "name": "stdout",
     "output_type": "stream",
     "text": [
      "Shape of Eigen vectors: (30, 30)\n"
     ]
    }
   ],
   "source": [
    "print(\"Shape of Eigen vectors:\", eig_vec.shape)"
   ]
  },
  {
   "cell_type": "markdown",
   "metadata": {},
   "source": [
    "### Reducing Eigen vectors to choose only top 5."
   ]
  },
  {
   "cell_type": "code",
   "execution_count": 12,
   "metadata": {},
   "outputs": [
    {
     "data": {
      "text/plain": [
       "array([7.01997261e-07, 2.00491564e-06, 2.84790425e-06, 3.68048171e-06,\n",
       "       1.24902419e-05, 1.61463677e-05, 2.83952689e-05, 3.49172775e-05,\n",
       "       5.76111660e-05, 7.81102011e-05, 1.64180064e-04, 1.84583467e-04,\n",
       "       2.35169626e-04, 3.74883320e-04, 6.40269304e-04, 1.32653879e-03,\n",
       "       2.16150395e-03, 3.16165652e-03, 7.49736514e-03, 3.16089533e-02,\n",
       "       8.40612196e-02, 1.55513547e-01, 3.71466740e-01, 1.81533030e+00,\n",
       "       3.00458768e+00, 3.98900178e+01, 5.46487379e+01, 7.03833742e+02,\n",
       "       7.31010006e+03, 4.43782605e+05])"
      ]
     },
     "execution_count": 12,
     "metadata": {},
     "output_type": "execute_result"
    }
   ],
   "source": [
    "sorted_eig_val = np.sort(eig_val)\n",
    "sorted_eig_val"
   ]
  },
  {
   "cell_type": "code",
   "execution_count": 13,
   "metadata": {},
   "outputs": [
    {
     "data": {
      "text/plain": [
       "array([3.98900178e+01, 5.46487379e+01, 7.03833742e+02, 7.31010006e+03,\n",
       "       4.43782605e+05])"
      ]
     },
     "execution_count": 13,
     "metadata": {},
     "output_type": "execute_result"
    }
   ],
   "source": [
    "top5 = sorted_eig_val[-5:]\n",
    "top5"
   ]
  },
  {
   "cell_type": "code",
   "execution_count": 14,
   "metadata": {},
   "outputs": [
    {
     "name": "stdout",
     "output_type": "stream",
     "text": [
      "Shape of reduced Eigen vectors:  (5, 30)\n"
     ]
    }
   ],
   "source": [
    "red_eig_vec_T = []\n",
    "for i in range(eig_val.shape[0]):\n",
    "    if eig_val[i] in top5:\n",
    "        red_eig_vec_T.append(list(eig_vec[:,i]))\n",
    "red_eig_vec_T = np.array(red_eig_vec_T)\n",
    "print(\"Shape of reduced Eigen vectors: \",red_eig_vec_T.shape)"
   ]
  },
  {
   "cell_type": "code",
   "execution_count": 15,
   "metadata": {},
   "outputs": [
    {
     "name": "stdout",
     "output_type": "stream",
     "text": [
      "[[ 5.08623202e-03  2.19657026e-03  3.50763298e-02  5.16826469e-01\n",
      "   4.23694535e-06  4.05260047e-05  8.19399539e-05  4.77807775e-05\n",
      "   7.07804332e-06 -2.62155251e-06  3.13742507e-04 -6.50984008e-05\n",
      "   2.23634150e-03  5.57271669e-02 -8.05646029e-07  5.51918197e-06\n",
      "   8.87094462e-06  3.27915009e-06 -1.24101836e-06 -8.54530832e-08\n",
      "   7.15473257e-03  3.06736622e-03  4.94576447e-02  8.52063392e-01\n",
      "   6.42005481e-06  1.01275937e-04  1.68928625e-04  7.36658178e-05\n",
      "   1.78986262e-05  1.61356159e-06]\n",
      " [ 9.28705650e-03 -2.88160658e-03  6.27480827e-02  8.51823720e-01\n",
      "  -1.48194356e-05 -2.68862249e-06  7.51419574e-05  4.63501038e-05\n",
      "  -2.52430431e-05 -1.61197148e-05 -5.38692831e-05  3.48370414e-04\n",
      "   8.19640791e-04  7.51112451e-03  1.49438131e-06  1.27357957e-05\n",
      "   2.86921009e-05  9.36007477e-06  1.22647432e-05  2.89683790e-07\n",
      "  -5.68673345e-04 -1.32152605e-02 -1.85961117e-04 -5.19742358e-01\n",
      "  -7.68565692e-05 -2.56104144e-04 -1.75471479e-04 -3.05051743e-05\n",
      "  -1.57042845e-04 -5.53071662e-05]\n",
      " [-1.23425821e-02 -6.35497857e-03 -7.16694814e-02 -2.78944181e-02\n",
      "   7.26596827e-05  1.01754350e-04  2.65989729e-04  3.60471764e-05\n",
      "   1.41290958e-04  5.06376971e-05  6.06156709e-03  6.23377635e-03\n",
      "   4.38560369e-02  9.90245878e-01  4.34471433e-05  1.27658711e-04\n",
      "   2.07365800e-04  4.78855144e-05  1.14411270e-04  2.43158370e-05\n",
      "  -1.55659935e-02 -3.15446196e-02 -9.23133791e-02 -3.93186778e-02\n",
      "  -4.21307399e-05 -7.64833237e-04 -8.46552237e-04 -3.33596393e-04\n",
      "  -3.49992952e-04 -4.09371692e-05]\n",
      " [-3.42380473e-02 -3.62415111e-01 -3.29281417e-01  3.94122494e-02\n",
      "  -3.44153009e-04 -3.00489873e-03 -3.40779110e-03 -1.24725032e-03\n",
      "  -9.66809714e-04 -1.99194796e-04 -4.08618843e-03 -2.26398666e-02\n",
      "  -4.98565303e-02 -1.01980275e-01  6.69114619e-06 -8.93263012e-04\n",
      "  -9.95328878e-04 -2.34560912e-04 -1.24528446e-04 -6.72412843e-05\n",
      "  -6.18999387e-02 -5.42057412e-01 -6.66816451e-01  3.87691524e-02\n",
      "  -7.21927589e-04 -1.03619614e-02 -1.15618071e-02 -2.99467373e-03\n",
      "  -2.64085170e-03 -9.08697292e-04]\n",
      " [-3.54561138e-02  4.43187450e-01 -3.13382893e-01  4.60378117e-02\n",
      "  -5.79019359e-04 -2.52639926e-03 -2.19520726e-03 -1.13196737e-03\n",
      "  -9.37014169e-04 -2.07028041e-04 -2.93386180e-03  3.75434531e-02\n",
      "  -3.57275320e-02 -5.08045702e-02  5.18037664e-05 -5.24579915e-04\n",
      "  -5.76839903e-04 -2.25598524e-04 -6.11321955e-05 -4.64421630e-05\n",
      "  -5.31447667e-02  6.12574312e-01 -5.64102976e-01  1.84525531e-02\n",
      "  -4.65062512e-04 -6.09647380e-03 -6.16530214e-03 -2.41157233e-03\n",
      "  -1.88324182e-03 -5.19581269e-04]]\n"
     ]
    }
   ],
   "source": [
    "print(red_eig_vec_T)"
   ]
  },
  {
   "cell_type": "code",
   "execution_count": 17,
   "metadata": {},
   "outputs": [
    {
     "name": "stdout",
     "output_type": "stream",
     "text": [
      "[[ 1.16014257e+03 -2.93917544e+02  4.85783976e+01 -8.71197531e+00\n",
      "  -3.20004861e+01]\n",
      " [ 1.26912244e+03  1.56301818e+01 -3.53945342e+01  1.78612832e+01\n",
      "   4.33487404e+00]\n",
      " [ 9.95793889e+02  3.91567432e+01 -1.70975298e+00  4.19934010e+00\n",
      "   4.66529118e-01]\n",
      " [-4.07180803e+02 -6.73803198e+01  8.67284783e+00 -1.17598673e+01\n",
      "  -7.11546109e+00]\n",
      " [ 9.30341180e+02  1.89340742e+02  1.37480074e+00  8.49918256e+00\n",
      "  -7.61328922e+00]]\n"
     ]
    }
   ],
   "source": [
    "from numpy import dot\n",
    "B = red_eig_vec_T.dot(C.T)\n",
    "print(B.T[:5])"
   ]
  },
  {
   "cell_type": "code",
   "execution_count": null,
   "metadata": {},
   "outputs": [],
   "source": []
  }
 ],
 "metadata": {
  "kernelspec": {
   "display_name": "Python 3",
   "language": "python",
   "name": "python3"
  },
  "language_info": {
   "codemirror_mode": {
    "name": "ipython",
    "version": 3
   },
   "file_extension": ".py",
   "mimetype": "text/x-python",
   "name": "python",
   "nbconvert_exporter": "python",
   "pygments_lexer": "ipython3",
   "version": "3.7.5"
  }
 },
 "nbformat": 4,
 "nbformat_minor": 2
}
