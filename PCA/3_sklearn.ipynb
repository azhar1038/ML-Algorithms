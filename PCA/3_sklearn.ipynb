{
 "cells": [
  {
   "cell_type": "markdown",
   "metadata": {},
   "source": [
    "# Principal Component Analysis using sklearn\n",
    "**[Click here for Theory](./1_scratch_fake.ipynb)**"
   ]
  },
  {
   "cell_type": "code",
   "execution_count": 1,
   "metadata": {},
   "outputs": [],
   "source": [
    "import numpy as np"
   ]
  },
  {
   "cell_type": "markdown",
   "metadata": {},
   "source": [
    "## For the fake data\n",
    "**[Scratch Implementation](./1_scratch_fake.ipynb)** for this fake data"
   ]
  },
  {
   "cell_type": "code",
   "execution_count": 2,
   "metadata": {},
   "outputs": [],
   "source": [
    "A = np.array([\n",
    "    [1,2],\n",
    "    [3,4],\n",
    "    [5,6]\n",
    "])"
   ]
  },
  {
   "cell_type": "code",
   "execution_count": 3,
   "metadata": {},
   "outputs": [],
   "source": [
    "from sklearn.decomposition import PCA"
   ]
  },
  {
   "cell_type": "code",
   "execution_count": 4,
   "metadata": {},
   "outputs": [],
   "source": [
    "pca = PCA(2)"
   ]
  },
  {
   "cell_type": "code",
   "execution_count": 5,
   "metadata": {},
   "outputs": [
    {
     "data": {
      "text/plain": [
       "PCA(copy=True, iterated_power='auto', n_components=2, random_state=None,\n",
       "    svd_solver='auto', tol=0.0, whiten=False)"
      ]
     },
     "execution_count": 5,
     "metadata": {},
     "output_type": "execute_result"
    }
   ],
   "source": [
    "pca.fit(A)"
   ]
  },
  {
   "cell_type": "code",
   "execution_count": 6,
   "metadata": {},
   "outputs": [
    {
     "name": "stdout",
     "output_type": "stream",
     "text": [
      "Eigen Values: \n",
      "[8. 0.]\n",
      "\n",
      "Eigen Vectors:\n",
      "[[ 0.70710678  0.70710678]\n",
      " [-0.70710678  0.70710678]]\n"
     ]
    }
   ],
   "source": [
    "print(\"Eigen Values: \")\n",
    "print(pca.explained_variance_)\n",
    "print(\"\\nEigen Vectors:\")\n",
    "print(pca.components_)"
   ]
  },
  {
   "cell_type": "markdown",
   "metadata": {},
   "source": [
    "**Same as the [first one](./1_scratch_fake.ipynb)! Success**"
   ]
  },
  {
   "cell_type": "code",
   "execution_count": 7,
   "metadata": {},
   "outputs": [
    {
     "name": "stdout",
     "output_type": "stream",
     "text": [
      "[[-2.82842712e+00 -2.22044605e-16]\n",
      " [ 0.00000000e+00  0.00000000e+00]\n",
      " [ 2.82842712e+00  2.22044605e-16]]\n"
     ]
    }
   ],
   "source": [
    "B = pca.transform(A)\n",
    "print(B)"
   ]
  },
  {
   "cell_type": "markdown",
   "metadata": {},
   "source": [
    "## For the cancer data\n",
    "**[Scratch Implementation](./2_scratch_cancer.ipynb)** for Cancer data"
   ]
  },
  {
   "cell_type": "code",
   "execution_count": 8,
   "metadata": {},
   "outputs": [
    {
     "data": {
      "text/plain": [
       "(569, 30)"
      ]
     },
     "execution_count": 8,
     "metadata": {},
     "output_type": "execute_result"
    }
   ],
   "source": [
    "from sklearn.datasets import load_breast_cancer\n",
    "cancer = load_breast_cancer()\n",
    "A = cancer.data\n",
    "A.shape"
   ]
  },
  {
   "cell_type": "code",
   "execution_count": 9,
   "metadata": {},
   "outputs": [],
   "source": [
    "pca = PCA(5)"
   ]
  },
  {
   "cell_type": "code",
   "execution_count": 10,
   "metadata": {},
   "outputs": [
    {
     "data": {
      "text/plain": [
       "PCA(copy=True, iterated_power='auto', n_components=5, random_state=None,\n",
       "    svd_solver='auto', tol=0.0, whiten=False)"
      ]
     },
     "execution_count": 10,
     "metadata": {},
     "output_type": "execute_result"
    }
   ],
   "source": [
    "pca.fit(A)"
   ]
  },
  {
   "cell_type": "code",
   "execution_count": 11,
   "metadata": {},
   "outputs": [
    {
     "name": "stdout",
     "output_type": "stream",
     "text": [
      "Eigen Values: \n",
      "[4.43782605e+05 7.31010006e+03 7.03833742e+02 5.46487379e+01\n",
      " 3.98900178e+01]\n",
      "\n",
      "Eigen Vectors shape: (5, 30)\n"
     ]
    }
   ],
   "source": [
    "print(\"Eigen Values: \")\n",
    "print(pca.explained_variance_)\n",
    "print(\"\\nEigen Vectors shape:\", pca.components_.shape)"
   ]
  },
  {
   "cell_type": "code",
   "execution_count": 12,
   "metadata": {},
   "outputs": [
    {
     "name": "stdout",
     "output_type": "stream",
     "text": [
      "[[ 5.08623202e-03  2.19657026e-03  3.50763298e-02  5.16826469e-01\n",
      "   4.23694535e-06  4.05260047e-05  8.19399539e-05  4.77807775e-05\n",
      "   7.07804332e-06 -2.62155251e-06  3.13742507e-04 -6.50984008e-05\n",
      "   2.23634150e-03  5.57271669e-02 -8.05646029e-07  5.51918197e-06\n",
      "   8.87094462e-06  3.27915009e-06 -1.24101836e-06 -8.54530832e-08\n",
      "   7.15473257e-03  3.06736622e-03  4.94576447e-02  8.52063392e-01\n",
      "   6.42005481e-06  1.01275937e-04  1.68928625e-04  7.36658178e-05\n",
      "   1.78986262e-05  1.61356159e-06]\n",
      " [ 9.28705650e-03 -2.88160658e-03  6.27480827e-02  8.51823720e-01\n",
      "  -1.48194356e-05 -2.68862249e-06  7.51419574e-05  4.63501038e-05\n",
      "  -2.52430431e-05 -1.61197148e-05 -5.38692831e-05  3.48370414e-04\n",
      "   8.19640791e-04  7.51112451e-03  1.49438131e-06  1.27357957e-05\n",
      "   2.86921009e-05  9.36007477e-06  1.22647432e-05  2.89683790e-07\n",
      "  -5.68673345e-04 -1.32152605e-02 -1.85961117e-04 -5.19742358e-01\n",
      "  -7.68565692e-05 -2.56104144e-04 -1.75471479e-04 -3.05051743e-05\n",
      "  -1.57042845e-04 -5.53071662e-05]\n",
      " [-1.23425821e-02 -6.35497857e-03 -7.16694814e-02 -2.78944181e-02\n",
      "   7.26596827e-05  1.01754350e-04  2.65989729e-04  3.60471764e-05\n",
      "   1.41290958e-04  5.06376971e-05  6.06156709e-03  6.23377635e-03\n",
      "   4.38560369e-02  9.90245878e-01  4.34471433e-05  1.27658711e-04\n",
      "   2.07365800e-04  4.78855144e-05  1.14411270e-04  2.43158370e-05\n",
      "  -1.55659935e-02 -3.15446196e-02 -9.23133791e-02 -3.93186778e-02\n",
      "  -4.21307399e-05 -7.64833237e-04 -8.46552237e-04 -3.33596393e-04\n",
      "  -3.49992952e-04 -4.09371692e-05]\n",
      " [-3.42380473e-02 -3.62415111e-01 -3.29281417e-01  3.94122494e-02\n",
      "  -3.44153009e-04 -3.00489873e-03 -3.40779110e-03 -1.24725032e-03\n",
      "  -9.66809714e-04 -1.99194796e-04 -4.08618843e-03 -2.26398666e-02\n",
      "  -4.98565303e-02 -1.01980275e-01  6.69114619e-06 -8.93263012e-04\n",
      "  -9.95328878e-04 -2.34560912e-04 -1.24528446e-04 -6.72412843e-05\n",
      "  -6.18999387e-02 -5.42057412e-01 -6.66816451e-01  3.87691524e-02\n",
      "  -7.21927589e-04 -1.03619614e-02 -1.15618071e-02 -2.99467373e-03\n",
      "  -2.64085170e-03 -9.08697292e-04]\n",
      " [ 3.54561138e-02 -4.43187450e-01  3.13382893e-01 -4.60378117e-02\n",
      "   5.79019359e-04  2.52639926e-03  2.19520726e-03  1.13196737e-03\n",
      "   9.37014169e-04  2.07028041e-04  2.93386180e-03 -3.75434531e-02\n",
      "   3.57275320e-02  5.08045702e-02 -5.18037664e-05  5.24579915e-04\n",
      "   5.76839903e-04  2.25598524e-04  6.11321955e-05  4.64421630e-05\n",
      "   5.31447667e-02 -6.12574312e-01  5.64102976e-01 -1.84525531e-02\n",
      "   4.65062512e-04  6.09647380e-03  6.16530214e-03  2.41157233e-03\n",
      "   1.88324182e-03  5.19581269e-04]]\n"
     ]
    }
   ],
   "source": [
    "print(pca.components_)"
   ]
  },
  {
   "cell_type": "markdown",
   "metadata": {},
   "source": [
    "<font color=\"red\" size=5><b>IMPORTANT</b></font>\n",
    "\n",
    "**As you can see the Eigen vectors are all same as we [calculated](./2_scratch_cancer.ipynb) except the sign of last one. Since the sign change is for all numbers in that vector it would not cause any problem**"
   ]
  },
  {
   "cell_type": "code",
   "execution_count": 13,
   "metadata": {},
   "outputs": [
    {
     "name": "stdout",
     "output_type": "stream",
     "text": [
      "[[ 1.16014257e+03 -2.93917544e+02  4.85783976e+01 -8.71197531e+00\n",
      "   3.20004861e+01]\n",
      " [ 1.26912244e+03  1.56301818e+01 -3.53945342e+01  1.78612832e+01\n",
      "  -4.33487404e+00]\n",
      " [ 9.95793889e+02  3.91567432e+01 -1.70975298e+00  4.19934010e+00\n",
      "  -4.66529118e-01]\n",
      " [-4.07180803e+02 -6.73803198e+01  8.67284783e+00 -1.17598673e+01\n",
      "   7.11546109e+00]\n",
      " [ 9.30341180e+02  1.89340742e+02  1.37480074e+00  8.49918256e+00\n",
      "   7.61328922e+00]]\n"
     ]
    }
   ],
   "source": [
    "B = pca.transform(A)\n",
    "print(B[:5])"
   ]
  }
 ],
 "metadata": {
  "kernelspec": {
   "display_name": "Python 3",
   "language": "python",
   "name": "python3"
  },
  "language_info": {
   "codemirror_mode": {
    "name": "ipython",
    "version": 3
   },
   "file_extension": ".py",
   "mimetype": "text/x-python",
   "name": "python",
   "nbconvert_exporter": "python",
   "pygments_lexer": "ipython3",
   "version": "3.7.5"
  }
 },
 "nbformat": 4,
 "nbformat_minor": 2
}
