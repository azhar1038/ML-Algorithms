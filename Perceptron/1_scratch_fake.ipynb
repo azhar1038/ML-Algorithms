{
 "cells": [
  {
   "cell_type": "markdown",
   "metadata": {},
   "source": [
    "# Perceptron from Scratch"
   ]
  },
  {
   "cell_type": "markdown",
   "metadata": {},
   "source": [
    "The Perceptron algorithm is the simplest type of artificial neural network.\n",
    "\n",
    "It is a model of a single neuron that can be used for two-class classification problems and provides the foundation for later developing much larger networks."
   ]
  },
  {
   "cell_type": "markdown",
   "metadata": {},
   "source": [
    "<img src=\"perceptron.png\">"
   ]
  },
  {
   "cell_type": "markdown",
   "metadata": {},
   "source": [
    "* Inputs consists of all the input features ($x_1,\\space x_2,\\space x_3,...$) and a bias (a minimum value)  \n",
    "    \n",
    "\n",
    "* Weights ($w_1,\\space w_2,\\space w_3,...$) are the parameters that we need to optimize. The weights of the Perceptron algorithm must be estimated from your training data using stochastic gradient descent.\n",
    "  \n",
    "    \n",
    "* Weighted Sum: $\\sum\\limits_{i=1}^{n}(w_ix_i) + bias$  \n",
    "      \n",
    "      \n",
    "* Activation Function which is a unit step function which will produce the final output, the prediction.  "
   ]
  },
  {
   "cell_type": "markdown",
   "metadata": {},
   "source": [
    "## Stochastic Gradient Descent\n",
    "Gradient Descent is the process of minimizing a function by following the gradients of the cost function. The way this optimization algorithm works is that each training instance is shown to the model one at a time. The model makes a prediction for a training instance, the error is calculated and the model is updated in order to reduce the error for the next prediction. Weights are updated according to the following formula:  \n",
    "\n",
    "$w_i = w_i + \\gamma \\times (y - \\hat y) \\times x_i$ where:\n",
    "* w is the weight\n",
    "* $\\gamma$ is the learning rate\n",
    "* y is the actual output\n",
    "* $\\hat y$ is the predicted output\n",
    "* x is the input respective to that weight"
   ]
  },
  {
   "cell_type": "markdown",
   "metadata": {},
   "source": [
    "## Creating Fake Data"
   ]
  },
  {
   "cell_type": "code",
   "execution_count": 1,
   "metadata": {},
   "outputs": [],
   "source": [
    "from sklearn.datasets import make_classification"
   ]
  },
  {
   "cell_type": "code",
   "execution_count": 2,
   "metadata": {},
   "outputs": [],
   "source": [
    "X, y = make_classification(n_samples=100, n_features=2, n_redundant=0, n_classes=2, random_state=99)"
   ]
  },
  {
   "cell_type": "code",
   "execution_count": 3,
   "metadata": {},
   "outputs": [],
   "source": [
    "import seaborn as sns"
   ]
  },
  {
   "cell_type": "code",
   "execution_count": 4,
   "metadata": {},
   "outputs": [],
   "source": [
    "sns.set_style(\"darkgrid\")\n",
    "sns.set_palette(\"prism\")"
   ]
  },
  {
   "cell_type": "code",
   "execution_count": 5,
   "metadata": {},
   "outputs": [
    {
     "data": {
      "text/plain": [
       "<matplotlib.axes._subplots.AxesSubplot at 0x7fe39bec87d0>"
      ]
     },
     "execution_count": 5,
     "metadata": {},
     "output_type": "execute_result"
    },
    {
     "data": {
      "image/png": "[encoded data removed]",
      "text/plain": [
       "<Figure size 432x288 with 1 Axes>"
      ]
     },
     "metadata": {},
     "output_type": "display_data"
    }
   ],
   "source": [
    "sns.scatterplot(x=X[:,0], y=X[:,1], hue=y)"
   ]
  },
  {
   "cell_type": "code",
   "execution_count": 6,
   "metadata": {},
   "outputs": [],
   "source": [
    "from sklearn.model_selection import train_test_split"
   ]
  },
  {
   "cell_type": "code",
   "execution_count": 7,
   "metadata": {},
   "outputs": [],
   "source": [
    "X_train, X_test, y_train, y_test = train_test_split(X, y, test_size=0.3, random_state=99)"
   ]
  },
  {
   "cell_type": "markdown",
   "metadata": {},
   "source": [
    "## Make Prediction using Perceptron"
   ]
  },
  {
   "cell_type": "code",
   "execution_count": 8,
   "metadata": {},
   "outputs": [],
   "source": [
    "def predict_one(x, weights):\n",
    "    activation = weights[0]\n",
    "    for i in range(len(x)):\n",
    "        activation += x[i]*weights[i+1]\n",
    "    if activation >= 0:\n",
    "        return 1\n",
    "    else:\n",
    "        return 0"
   ]
  },
  {
   "cell_type": "markdown",
   "metadata": {},
   "source": [
    "## Learning Weights"
   ]
  },
  {
   "cell_type": "code",
   "execution_count": 9,
   "metadata": {},
   "outputs": [],
   "source": [
    "def fit(X, y, l_rate, n_epoch):\n",
    "    # weight 0 represents bias\n",
    "    n_features = len(X[0])\n",
    "    weights = [0.0 for _ in range(n_features+1)]\n",
    "    errors=[]\n",
    "    for epoch in range(n_epoch):\n",
    "        # Sum Squared error\n",
    "        sum_error = 0\n",
    "        for i in range(len(X)):\n",
    "            prediction = predict_one(X[i], weights)\n",
    "            error = y[i] - prediction\n",
    "            sum_error += error*error\n",
    "            weights[0] += l_rate*error\n",
    "            for j in range(n_features):\n",
    "                weights[j+1] += l_rate*error*X[i,j]\n",
    "        errors.append(sum_error)\n",
    "        print(\"Epoch %2d => Error %.3f\"%(epoch+1, sum_error))\n",
    "    return (weights, errors)"
   ]
  },
  {
   "cell_type": "code",
   "execution_count": 10,
   "metadata": {},
   "outputs": [
    {
     "name": "stdout",
     "output_type": "stream",
     "text": [
      "Epoch  1 => Error 26.000\n",
      "Epoch  2 => Error 24.000\n",
      "Epoch  3 => Error 22.000\n",
      "Epoch  4 => Error 18.000\n",
      "Epoch  5 => Error 22.000\n",
      "Epoch  6 => Error 22.000\n",
      "Epoch  7 => Error 22.000\n",
      "Epoch  8 => Error 25.000\n",
      "Epoch  9 => Error 22.000\n",
      "Epoch 10 => Error 25.000\n",
      "Epoch 11 => Error 22.000\n",
      "Epoch 12 => Error 22.000\n",
      "Epoch 13 => Error 22.000\n",
      "Epoch 14 => Error 22.000\n",
      "Epoch 15 => Error 22.000\n",
      "Epoch 16 => Error 23.000\n",
      "Epoch 17 => Error 22.000\n",
      "Epoch 18 => Error 23.000\n",
      "Epoch 19 => Error 21.000\n",
      "Epoch 20 => Error 23.000\n",
      "Epoch 21 => Error 21.000\n",
      "Epoch 22 => Error 23.000\n",
      "Epoch 23 => Error 22.000\n",
      "Epoch 24 => Error 23.000\n",
      "Epoch 25 => Error 22.000\n",
      "Epoch 26 => Error 23.000\n",
      "Epoch 27 => Error 18.000\n",
      "Epoch 28 => Error 24.000\n",
      "Epoch 29 => Error 22.000\n",
      "Epoch 30 => Error 21.000\n"
     ]
    }
   ],
   "source": [
    "l_rate = 0.01\n",
    "n_epoch = 30\n",
    "weights, errors = fit(X_train, y_train, l_rate, n_epoch)"
   ]
  },
  {
   "cell_type": "code",
   "execution_count": 11,
   "metadata": {},
   "outputs": [
    {
     "data": {
      "text/plain": [
       "<matplotlib.axes._subplots.AxesSubplot at 0x7fe396f0a5d0>"
      ]
     },
     "execution_count": 11,
     "metadata": {},
     "output_type": "execute_result"
    },
    {
     "data": {
      "image/png": "[encoded data removed]",
      "text/plain": [
       "<Figure size 432x288 with 1 Axes>"
      ]
     },
     "metadata": {},
     "output_type": "display_data"
    }
   ],
   "source": [
    "sns.lineplot(x=range(n_epoch), y=errors)"
   ]
  },
  {
   "cell_type": "markdown",
   "metadata": {},
   "source": [
    "## Performance Measurement"
   ]
  },
  {
   "cell_type": "code",
   "execution_count": 12,
   "metadata": {},
   "outputs": [],
   "source": [
    "predictions = [predict_one(x, weights) for x in X_test]"
   ]
  },
  {
   "cell_type": "code",
   "execution_count": 13,
   "metadata": {},
   "outputs": [],
   "source": [
    "from sklearn.metrics import classification_report, confusion_matrix"
   ]
  },
  {
   "cell_type": "code",
   "execution_count": 14,
   "metadata": {},
   "outputs": [
    {
     "name": "stdout",
     "output_type": "stream",
     "text": [
      "[[ 9  2]\n",
      " [ 0 19]]\n",
      "              precision    recall  f1-score   support\n",
      "\n",
      "           0       1.00      0.82      0.90        11\n",
      "           1       0.90      1.00      0.95        19\n",
      "\n",
      "    accuracy                           0.93        30\n",
      "   macro avg       0.95      0.91      0.93        30\n",
      "weighted avg       0.94      0.93      0.93        30\n",
      "\n"
     ]
    }
   ],
   "source": [
    "print(confusion_matrix(y_test, predictions))\n",
    "print(classification_report(y_test, predictions))"
   ]
  },
  {
   "cell_type": "markdown",
   "metadata": {},
   "source": [
    "## An unexpectedly well performance by just a single perceptron!"
   ]
  }
 ],
 "metadata": {
  "kernelspec": {
   "display_name": "Python 3",
   "language": "python",
   "name": "python3"
  },
  "language_info": {
   "codemirror_mode": {
    "name": "ipython",
    "version": 3
   },
   "file_extension": ".py",
   "mimetype": "text/x-python",
   "name": "python",
   "nbconvert_exporter": "python",
   "pygments_lexer": "ipython3",
   "version": "3.7.5"
  }
 },
 "nbformat": 4,
 "nbformat_minor": 2
}
