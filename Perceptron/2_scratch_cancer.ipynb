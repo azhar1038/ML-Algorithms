{
 "cells": [
  {
   "cell_type": "markdown",
   "metadata": {},
   "source": [
    "# Perceptron from scratch on Breast Cancer data\n",
    "**[For theory & scratch implementation, click here.](1_scratch_fake.ipynb)**"
   ]
  },
  {
   "cell_type": "markdown",
   "metadata": {},
   "source": [
    "## Load Data"
   ]
  },
  {
   "cell_type": "code",
   "execution_count": 1,
   "metadata": {},
   "outputs": [],
   "source": [
    "from sklearn.datasets import load_breast_cancer"
   ]
  },
  {
   "cell_type": "code",
   "execution_count": 2,
   "metadata": {},
   "outputs": [],
   "source": [
    "data = load_breast_cancer()"
   ]
  },
  {
   "cell_type": "code",
   "execution_count": 3,
   "metadata": {},
   "outputs": [],
   "source": [
    "X=data.data\n",
    "y=data.target"
   ]
  },
  {
   "cell_type": "code",
   "execution_count": 4,
   "metadata": {},
   "outputs": [],
   "source": [
    "from sklearn.model_selection import train_test_split"
   ]
  },
  {
   "cell_type": "code",
   "execution_count": 5,
   "metadata": {},
   "outputs": [],
   "source": [
    "X_train, X_test, y_train, y_test = train_test_split(X, y, test_size=0.3, random_state=99)"
   ]
  },
  {
   "cell_type": "markdown",
   "metadata": {},
   "source": [
    "## Make Prediction using Perceptron"
   ]
  },
  {
   "cell_type": "code",
   "execution_count": 6,
   "metadata": {},
   "outputs": [],
   "source": [
    "def predict_one(x, weights):\n",
    "    activation = weights[0]\n",
    "    for i in range(len(x)):\n",
    "        activation += x[i]*weights[i+1]\n",
    "    if activation >= 0:\n",
    "        return 1\n",
    "    else:\n",
    "        return 0"
   ]
  },
  {
   "cell_type": "markdown",
   "metadata": {},
   "source": [
    "## Learning Weights"
   ]
  },
  {
   "cell_type": "code",
   "execution_count": 7,
   "metadata": {},
   "outputs": [],
   "source": [
    "def fit(X, y, l_rate, n_epoch):\n",
    "    # weight 0 represents bias\n",
    "    n_features = len(X[0])\n",
    "    weights = [0.0 for _ in range(n_features+1)]\n",
    "    errors=[]\n",
    "    for epoch in range(n_epoch):\n",
    "        # Sum Squared error\n",
    "        sum_error = 0\n",
    "        for i in range(len(X)):\n",
    "            prediction = predict_one(X[i], weights)\n",
    "            error = y[i] - prediction\n",
    "            sum_error += error*error\n",
    "            weights[0] += l_rate*error\n",
    "            for j in range(n_features):\n",
    "                weights[j+1] += l_rate*error*X[i,j]\n",
    "        errors.append(sum_error)\n",
    "        print(\"Epoch %2d => Error %.3f\"%(epoch+1, sum_error))\n",
    "    return (weights, errors)"
   ]
  },
  {
   "cell_type": "code",
   "execution_count": 8,
   "metadata": {},
   "outputs": [
    {
     "name": "stdout",
     "output_type": "stream",
     "text": [
      "Epoch  1 => Error 141.000\n",
      "Epoch  2 => Error 100.000\n",
      "Epoch  3 => Error 86.000\n",
      "Epoch  4 => Error 80.000\n",
      "Epoch  5 => Error 81.000\n",
      "Epoch  6 => Error 74.000\n",
      "Epoch  7 => Error 72.000\n",
      "Epoch  8 => Error 71.000\n",
      "Epoch  9 => Error 65.000\n",
      "Epoch 10 => Error 65.000\n",
      "Epoch 11 => Error 64.000\n",
      "Epoch 12 => Error 61.000\n",
      "Epoch 13 => Error 51.000\n",
      "Epoch 14 => Error 58.000\n",
      "Epoch 15 => Error 63.000\n",
      "Epoch 16 => Error 52.000\n",
      "Epoch 17 => Error 51.000\n",
      "Epoch 18 => Error 55.000\n",
      "Epoch 19 => Error 50.000\n",
      "Epoch 20 => Error 48.000\n",
      "Epoch 21 => Error 44.000\n",
      "Epoch 22 => Error 53.000\n",
      "Epoch 23 => Error 53.000\n",
      "Epoch 24 => Error 53.000\n",
      "Epoch 25 => Error 53.000\n",
      "Epoch 26 => Error 53.000\n",
      "Epoch 27 => Error 53.000\n",
      "Epoch 28 => Error 44.000\n",
      "Epoch 29 => Error 44.000\n",
      "Epoch 30 => Error 56.000\n",
      "Epoch 31 => Error 47.000\n",
      "Epoch 32 => Error 41.000\n",
      "Epoch 33 => Error 39.000\n",
      "Epoch 34 => Error 41.000\n",
      "Epoch 35 => Error 41.000\n",
      "Epoch 36 => Error 41.000\n",
      "Epoch 37 => Error 44.000\n",
      "Epoch 38 => Error 46.000\n",
      "Epoch 39 => Error 46.000\n",
      "Epoch 40 => Error 43.000\n",
      "Epoch 41 => Error 44.000\n",
      "Epoch 42 => Error 43.000\n",
      "Epoch 43 => Error 47.000\n",
      "Epoch 44 => Error 45.000\n",
      "Epoch 45 => Error 55.000\n",
      "Epoch 46 => Error 49.000\n",
      "Epoch 47 => Error 44.000\n",
      "Epoch 48 => Error 39.000\n",
      "Epoch 49 => Error 43.000\n",
      "Epoch 50 => Error 39.000\n"
     ]
    }
   ],
   "source": [
    "l_rate = 0.001\n",
    "n_epoch = 50\n",
    "weights, errors = fit(X_train, y_train, l_rate, n_epoch)"
   ]
  },
  {
   "cell_type": "code",
   "execution_count": 9,
   "metadata": {},
   "outputs": [],
   "source": [
    "import seaborn as sns"
   ]
  },
  {
   "cell_type": "code",
   "execution_count": 10,
   "metadata": {},
   "outputs": [],
   "source": [
    "sns.set_style(\"darkgrid\")\n",
    "sns.set_palette(\"prism\")"
   ]
  },
  {
   "cell_type": "code",
   "execution_count": 11,
   "metadata": {},
   "outputs": [
    {
     "data": {
      "text/plain": [
       "<matplotlib.axes._subplots.AxesSubplot at 0x7f2728204a90>"
      ]
     },
     "execution_count": 11,
     "metadata": {},
     "output_type": "execute_result"
    },
    {
     "data": {
      "image/png": "[encoded data removed]",
      "text/plain": [
       "<Figure size 432x288 with 1 Axes>"
      ]
     },
     "metadata": {},
     "output_type": "display_data"
    }
   ],
   "source": [
    "sns.lineplot(x=range(n_epoch), y=errors)"
   ]
  },
  {
   "cell_type": "code",
   "execution_count": 12,
   "metadata": {},
   "outputs": [],
   "source": [
    "predictions = [predict_one(x, weights) for x in X_test]"
   ]
  },
  {
   "cell_type": "code",
   "execution_count": 13,
   "metadata": {},
   "outputs": [],
   "source": [
    "from sklearn.metrics import classification_report, confusion_matrix"
   ]
  },
  {
   "cell_type": "code",
   "execution_count": 14,
   "metadata": {},
   "outputs": [
    {
     "name": "stdout",
     "output_type": "stream",
     "text": [
      "[[53  5]\n",
      " [14 99]]\n",
      "              precision    recall  f1-score   support\n",
      "\n",
      "           0       0.79      0.91      0.85        58\n",
      "           1       0.95      0.88      0.91       113\n",
      "\n",
      "    accuracy                           0.89       171\n",
      "   macro avg       0.87      0.89      0.88       171\n",
      "weighted avg       0.90      0.89      0.89       171\n",
      "\n"
     ]
    }
   ],
   "source": [
    "print(confusion_matrix(y_test, predictions))\n",
    "print(classification_report(y_test, predictions))"
   ]
  },
  {
   "cell_type": "markdown",
   "metadata": {},
   "source": [
    "## We shouldn't expect much from just a single Perceptron!"
   ]
  }
 ],
 "metadata": {
  "kernelspec": {
   "display_name": "Python 3",
   "language": "python",
   "name": "python3"
  },
  "language_info": {
   "codemirror_mode": {
    "name": "ipython",
    "version": 3
   },
   "file_extension": ".py",
   "mimetype": "text/x-python",
   "name": "python",
   "nbconvert_exporter": "python",
   "pygments_lexer": "ipython3",
   "version": "3.7.5"
  }
 },
 "nbformat": 4,
 "nbformat_minor": 2
}
