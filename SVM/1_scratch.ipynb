{
 "cells": [
  {
   "cell_type": "markdown",
   "metadata": {},
   "source": [
    "# Linear Support Vector Machine with Sub-Gradient Descent Optimization from Scratch\n",
    "\n",
    "Support vector machine is based on the concept of finding some points in the training dataset that can be used to form an equation that divides the data points into classes.\n",
    "\n",
    "### Maximal-Margin Classifier\n",
    "The Maximal-Margin Classifier is a hypothetical classifier that best explains how SVM works in practice. The numeric input variables (x) in your data (the columns) form an n-dimensional space. For example, if you had two input variables, this would form a two-dimensional space. A hyperplane is a line that splits the input variable space. In SVM, a hyperplane is selected to best separate the points in the input variable space by their class, either class 0 or class 1. In two-dimensions you can visualize this as a line.\n",
    "\n",
    "The distance between the line and the closest data points is referred to as the margin. The best or optimal line that can separate the two classes is the line that as the largest margin. This is called the Maximal-Margin hyperplane. The margin is calculated as the perpendicular distance from the line to only the closest points. Only these points are relevant in defining the line and in the construction of the classifier. These points are called the **support vectors**.\n",
    "\n",
    "### Soft Margin Classifier\n",
    "In practice, real data is messy and cannot be separated perfectly with a hyperplane. The constraint of maximizing the margin of the line that separates the classes must be relaxed. This is often called the soft margin classifier. A tuning parameter is introduced called simply **C** that defines the amount of violation of the margin allowed.\n",
    "* The smaller the value of C, the more sensitive the algorithm is to the training data (higher variance and lower bias).\n",
    "* The larger the value of C, the less sensitive the algorithm is to the training data (lower variance and higher bias).\n",
    "\n",
    "### SVM Kernels\n",
    "* **Linear** : $K(x, x_i) = \\sum(x\\times x_i)$\n",
    "* **Polynomial** : $K(x, x_i) = 1+\\sum(x\\times x_i)^d$\n",
    "* **Radial** : $K(x, x_i) = e^{-\\gamma \\sum (x - x_i)^2}$, where $0<\\gamma<1$"
   ]
  },
  {
   "cell_type": "markdown",
   "metadata": {},
   "source": [
    "## Creating Fake Data\n",
    "An assumption made by the SVM algorithm is that first class value is −1 and the second class value is +1."
   ]
  },
  {
   "cell_type": "code",
   "execution_count": 1,
   "metadata": {},
   "outputs": [],
   "source": [
    "from sklearn.datasets import make_classification"
   ]
  },
  {
   "cell_type": "code",
   "execution_count": 2,
   "metadata": {},
   "outputs": [],
   "source": [
    "X, y = make_classification(n_samples=100, n_features=2, n_redundant=0, n_classes=2, random_state=101)"
   ]
  },
  {
   "cell_type": "code",
   "execution_count": 3,
   "metadata": {},
   "outputs": [],
   "source": [
    "for i in range(len(y)):\n",
    "    if y[i] == 0:\n",
    "        y[i] = -1"
   ]
  },
  {
   "cell_type": "code",
   "execution_count": 4,
   "metadata": {},
   "outputs": [
    {
     "name": "stdout",
     "output_type": "stream",
     "text": [
      "First 5 X: \n",
      "[[ 2.34669706  1.99811892]\n",
      " [ 2.40710326  2.2038783 ]\n",
      " [-0.077088   -1.43258858]\n",
      " [ 2.73918283  1.15325581]\n",
      " [-0.75506174  0.61430643]]\n",
      "\n",
      "First 5 y:\n",
      "[ 1  1 -1  1  1]\n"
     ]
    }
   ],
   "source": [
    "print(\"First 5 X: \")\n",
    "print(X[:5,:])\n",
    "print(\"\\nFirst 5 y:\")\n",
    "print(y[:5])"
   ]
  },
  {
   "cell_type": "code",
   "execution_count": 5,
   "metadata": {},
   "outputs": [],
   "source": [
    "import seaborn as sns"
   ]
  },
  {
   "cell_type": "code",
   "execution_count": 6,
   "metadata": {},
   "outputs": [],
   "source": [
    "sns.set_style('darkgrid')"
   ]
  },
  {
   "cell_type": "code",
   "execution_count": 7,
   "metadata": {},
   "outputs": [
    {
     "data": {
      "text/plain": [
       "<matplotlib.axes._subplots.AxesSubplot at 0x7f29ae7bba50>"
      ]
     },
     "execution_count": 7,
     "metadata": {},
     "output_type": "execute_result"
    },
    {
     "data": {
      "image/png": "[encoded data removed]",
      "text/plain": [
       "<Figure size 432x288 with 1 Axes>"
      ]
     },
     "metadata": {},
     "output_type": "display_data"
    }
   ],
   "source": [
    "sns.scatterplot(x=X[:,0], y=X[:,1], hue=y, palette=\"coolwarm\")"
   ]
  },
  {
   "cell_type": "code",
   "execution_count": 8,
   "metadata": {},
   "outputs": [],
   "source": [
    "from sklearn.model_selection import train_test_split"
   ]
  },
  {
   "cell_type": "code",
   "execution_count": 9,
   "metadata": {},
   "outputs": [],
   "source": [
    "X_train, X_test, y_train, y_test = train_test_split(X, y, test_size=0.4, random_state=101)"
   ]
  },
  {
   "cell_type": "markdown",
   "metadata": {},
   "source": [
    "## Training SVM with Gradient Descent\n",
    "### Form of Linear SVM Model\n",
    "$b0 + (b1 \\times X1) + (b2 \\times X2) = 0$\n",
    "### SVM Optimization Method\n",
    "In Sub-Gradient Descent a random training pattern is selected in each iteration and is used to update the coefficients. After a large number of iterations (thousands or hundreds of thousands) the algorithm will settle on a stable set of coefficients. The coefficient update equation works as follows. First an output value is calculated as:  \n",
    "  \n",
    "$output = y \\times (b0 + b1\\times X1 + b2 \\times X2)$  \n",
    "  \n",
    "Two different update procedures are used depending on the output value. If the output value is greater than 1 it suggests that the training pattern was not a support vector. This means that the instance was not directly involved in calculating the output, in which case the weights are slightly decreased:  \n",
    "  \n",
    "$b = (1-\\frac{1}{t})\\times b$, where t is the iteration number.  \n",
    "  \n",
    "If the output is less than 1 then it is assumed that the training instance is a support vector and must be updated to better explain the data.  \n",
    "  \n",
    "\n",
    "$b = (1-\\frac{1}{t})\\times b + \\frac{1}{\\lambda \\times t}\\times (y \\times x)$, where $\\lambda$ is learning rate"
   ]
  },
  {
   "cell_type": "code",
   "execution_count": 10,
   "metadata": {},
   "outputs": [],
   "source": [
    "import numpy as np"
   ]
  },
  {
   "cell_type": "code",
   "execution_count": 11,
   "metadata": {},
   "outputs": [],
   "source": [
    "def update_b(X, y, t, lr):\n",
    "    output = y*(b[0] + b[1]*X[0] + b[2]*X[1])\n",
    "    if output < 1:\n",
    "        for i in range(len(b)):\n",
    "            x=1\n",
    "            if(i>0):\n",
    "                x = X[i-1]\n",
    "            b[i] = (1-1/t)*b[i] + 1/(lr*t)*y*x\n",
    "    else:\n",
    "        for i in range(len(b)):\n",
    "            b[i] = (1-1/t)*b[i]"
   ]
  },
  {
   "cell_type": "markdown",
   "metadata": {},
   "source": [
    "## Make Predictions with SVM\n",
    "With all learned B's:  \n",
    "  \n",
    "$output = b0 + b1\\times X1 + b2 \\times X2$  \n",
    "$y = -1 \\space\\space if\\space output < 0$  \n",
    "$y = 1 \\space\\space if\\space output >= 0$"
   ]
  },
  {
   "cell_type": "code",
   "execution_count": 12,
   "metadata": {},
   "outputs": [],
   "source": [
    "def predict(X):\n",
    "    p = []\n",
    "    for x in X:\n",
    "        output = b[0]+b[1]*x[0]+b[2]*x[1]\n",
    "        if output < 0:\n",
    "            p.append(-1)\n",
    "        else:\n",
    "            p.append(1)\n",
    "    return p"
   ]
  },
  {
   "cell_type": "code",
   "execution_count": 13,
   "metadata": {},
   "outputs": [],
   "source": [
    "from sklearn.metrics import accuracy_score\n",
    "def fit(X, y, lr, epochs):\n",
    "    iter_num=1\n",
    "    acc = []\n",
    "    for epoch in range(epochs):\n",
    "        for i in range(len(X)):\n",
    "            update_b(X[i], y[i], iter_num, lr)\n",
    "            iter_num += 1\n",
    "        accuracy = accuracy_score(y_test, predict(X_test))\n",
    "        acc.append(accuracy)\n",
    "        print(\"=> Epoch: %3d, Accuracy: %.3f\"%(epoch+1, accuracy))\n",
    "    return acc"
   ]
  },
  {
   "cell_type": "code",
   "execution_count": 14,
   "metadata": {},
   "outputs": [
    {
     "name": "stdout",
     "output_type": "stream",
     "text": [
      "=> Epoch:   1, Accuracy: 0.925\n",
      "=> Epoch:   2, Accuracy: 0.900\n",
      "=> Epoch:   3, Accuracy: 0.900\n",
      "=> Epoch:   4, Accuracy: 0.900\n",
      "=> Epoch:   5, Accuracy: 0.900\n",
      "=> Epoch:   6, Accuracy: 0.900\n",
      "=> Epoch:   7, Accuracy: 0.875\n",
      "=> Epoch:   8, Accuracy: 0.900\n",
      "=> Epoch:   9, Accuracy: 0.900\n",
      "=> Epoch:  10, Accuracy: 0.900\n",
      "=> Epoch:  11, Accuracy: 0.925\n",
      "=> Epoch:  12, Accuracy: 0.925\n",
      "=> Epoch:  13, Accuracy: 0.925\n",
      "=> Epoch:  14, Accuracy: 0.950\n",
      "=> Epoch:  15, Accuracy: 0.950\n",
      "=> Epoch:  16, Accuracy: 0.925\n",
      "=> Epoch:  17, Accuracy: 0.950\n",
      "=> Epoch:  18, Accuracy: 0.950\n",
      "=> Epoch:  19, Accuracy: 0.950\n",
      "=> Epoch:  20, Accuracy: 0.950\n",
      "=> Epoch:  21, Accuracy: 0.950\n",
      "=> Epoch:  22, Accuracy: 0.925\n",
      "=> Epoch:  23, Accuracy: 0.950\n",
      "=> Epoch:  24, Accuracy: 0.925\n",
      "=> Epoch:  25, Accuracy: 0.925\n",
      "=> Epoch:  26, Accuracy: 0.925\n",
      "=> Epoch:  27, Accuracy: 0.925\n",
      "=> Epoch:  28, Accuracy: 0.925\n",
      "=> Epoch:  29, Accuracy: 0.925\n",
      "=> Epoch:  30, Accuracy: 0.925\n",
      "=> Epoch:  31, Accuracy: 0.950\n",
      "=> Epoch:  32, Accuracy: 0.925\n",
      "=> Epoch:  33, Accuracy: 0.925\n",
      "=> Epoch:  34, Accuracy: 0.950\n",
      "=> Epoch:  35, Accuracy: 0.950\n",
      "=> Epoch:  36, Accuracy: 0.950\n",
      "=> Epoch:  37, Accuracy: 0.950\n",
      "=> Epoch:  38, Accuracy: 0.950\n",
      "=> Epoch:  39, Accuracy: 0.950\n",
      "=> Epoch:  40, Accuracy: 0.950\n"
     ]
    }
   ],
   "source": [
    "epochs = 40\n",
    "lr = 0.01\n",
    "b = np.zeros(3)\n",
    "accuracy = fit(X_train, y_train, lr, epochs)"
   ]
  },
  {
   "cell_type": "code",
   "execution_count": 15,
   "metadata": {},
   "outputs": [
    {
     "data": {
      "text/plain": [
       "<matplotlib.axes._subplots.AxesSubplot at 0x7f29a8596c10>"
      ]
     },
     "execution_count": 15,
     "metadata": {},
     "output_type": "execute_result"
    },
    {
     "data": {
      "image/png": "[encoded data removed]",
      "text/plain": [
       "<Figure size 432x288 with 1 Axes>"
      ]
     },
     "metadata": {},
     "output_type": "display_data"
    }
   ],
   "source": [
    "sns.lineplot(x=range(epochs), y=accuracy)"
   ]
  },
  {
   "cell_type": "code",
   "execution_count": 21,
   "metadata": {},
   "outputs": [
    {
     "name": "stdout",
     "output_type": "stream",
     "text": [
      "[-0.04166667 -0.51027199  1.77860918]\n"
     ]
    }
   ],
   "source": [
    "print(b)"
   ]
  },
  {
   "cell_type": "code",
   "execution_count": 16,
   "metadata": {},
   "outputs": [],
   "source": [
    "pred = predict(X_test)"
   ]
  },
  {
   "cell_type": "code",
   "execution_count": 17,
   "metadata": {},
   "outputs": [],
   "source": [
    "from sklearn.metrics import classification_report, confusion_matrix"
   ]
  },
  {
   "cell_type": "code",
   "execution_count": 18,
   "metadata": {},
   "outputs": [
    {
     "name": "stdout",
     "output_type": "stream",
     "text": [
      "[[19  1]\n",
      " [ 1 19]]\n",
      "              precision    recall  f1-score   support\n",
      "\n",
      "          -1       0.95      0.95      0.95        20\n",
      "           1       0.95      0.95      0.95        20\n",
      "\n",
      "    accuracy                           0.95        40\n",
      "   macro avg       0.95      0.95      0.95        40\n",
      "weighted avg       0.95      0.95      0.95        40\n",
      "\n"
     ]
    }
   ],
   "source": [
    "print(confusion_matrix(y_test, pred))\n",
    "print(classification_report(y_test, pred))"
   ]
  },
  {
   "cell_type": "code",
   "execution_count": 19,
   "metadata": {},
   "outputs": [],
   "source": [
    "x_line = list(range(-4, 5))\n",
    "y_line = [-(b[0]+b[1]*x)/b[2] for x in x_line]"
   ]
  },
  {
   "cell_type": "code",
   "execution_count": 20,
   "metadata": {},
   "outputs": [
    {
     "data": {
      "text/plain": [
       "<matplotlib.axes._subplots.AxesSubplot at 0x7f29a8534890>"
      ]
     },
     "execution_count": 20,
     "metadata": {},
     "output_type": "execute_result"
    },
    {
     "data": {
      "image/png": "[encoded data removed]",
      "text/plain": [
       "<Figure size 432x288 with 1 Axes>"
      ]
     },
     "metadata": {},
     "output_type": "display_data"
    }
   ],
   "source": [
    "sns.lineplot(x=x_line, y=y_line)\n",
    "sns.scatterplot(x=X_test[:,0], y=X_test[:,1], hue=y_test, palette=\"coolwarm\")"
   ]
  }
 ],
 "metadata": {
  "kernelspec": {
   "display_name": "Python 3",
   "language": "python",
   "name": "python3"
  },
  "language_info": {
   "codemirror_mode": {
    "name": "ipython",
    "version": 3
   },
   "file_extension": ".py",
   "mimetype": "text/x-python",
   "name": "python",
   "nbconvert_exporter": "python",
   "pygments_lexer": "ipython3",
   "version": "3.7.5"
  }
 },
 "nbformat": 4,
 "nbformat_minor": 2
}
